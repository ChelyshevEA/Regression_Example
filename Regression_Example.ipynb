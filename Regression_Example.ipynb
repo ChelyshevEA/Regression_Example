{
 "cells": [
  {
   "cell_type": "markdown",
   "id": "collectible-ridge",
   "metadata": {},
   "source": [
    "# Задача восстановления регрессии\n",
    "на примере определения числа багов"
   ]
  },
  {
   "cell_type": "markdown",
   "id": "wound-panama",
   "metadata": {},
   "source": [
    "Датасет описывает некоторую зависимость числа bugs от значений repository_name, commit_hash, commit_date, commit_author, commit_message. Hеобходимо выявить данную зависимость"
   ]
  },
  {
   "cell_type": "code",
   "execution_count": 1,
   "id": "forced-collect",
   "metadata": {},
   "outputs": [],
   "source": [
    "import pandas as pd\n",
    "import matplotlib.pyplot as plt\n",
    "import numpy as np"
   ]
  },
  {
   "cell_type": "code",
   "execution_count": 2,
   "id": "dominant-conversation",
   "metadata": {},
   "outputs": [],
   "source": [
    "file_path = 'C:\\\\Users\\\\Эдуард Челышев\\\\Downloads\\\\Telegram Desktop\\\\АВСОФТ_тест_ML_приложение.csv'\n",
    "dataset = pd.read_csv(file_path)"
   ]
  },
  {
   "cell_type": "code",
   "execution_count": 3,
   "id": "naval-circumstances",
   "metadata": {},
   "outputs": [
    {
     "data": {
      "text/html": [
       "<div>\n",
       "<style scoped>\n",
       "    .dataframe tbody tr th:only-of-type {\n",
       "        vertical-align: middle;\n",
       "    }\n",
       "\n",
       "    .dataframe tbody tr th {\n",
       "        vertical-align: top;\n",
       "    }\n",
       "\n",
       "    .dataframe thead th {\n",
       "        text-align: right;\n",
       "    }\n",
       "</style>\n",
       "<table border=\"1\" class=\"dataframe\">\n",
       "  <thead>\n",
       "    <tr style=\"text-align: right;\">\n",
       "      <th></th>\n",
       "      <th>repository_name</th>\n",
       "      <th>commit_hash</th>\n",
       "      <th>commit_date</th>\n",
       "      <th>commit_author</th>\n",
       "      <th>commit_message</th>\n",
       "      <th>bugs</th>\n",
       "    </tr>\n",
       "  </thead>\n",
       "  <tbody>\n",
       "    <tr>\n",
       "      <th>0</th>\n",
       "      <td>mlm</td>\n",
       "      <td>b28abb42</td>\n",
       "      <td>2020-06-12T14:26:12</td>\n",
       "      <td>Victor</td>\n",
       "      <td>объяснения предсказаний с помощью lime</td>\n",
       "      <td>4</td>\n",
       "    </tr>\n",
       "    <tr>\n",
       "      <th>1</th>\n",
       "      <td>mlm</td>\n",
       "      <td>438b5c4d</td>\n",
       "      <td>2020-06-12T11:53:10</td>\n",
       "      <td>Victor</td>\n",
       "      <td>Поставил lime вместо eli5</td>\n",
       "      <td>3</td>\n",
       "    </tr>\n",
       "    <tr>\n",
       "      <th>2</th>\n",
       "      <td>mlm</td>\n",
       "      <td>8e6e4f31</td>\n",
       "      <td>2020-06-11T15:19:03</td>\n",
       "      <td>Victor</td>\n",
       "      <td>Скрипт для создния пакетов обновления</td>\n",
       "      <td>4</td>\n",
       "    </tr>\n",
       "    <tr>\n",
       "      <th>3</th>\n",
       "      <td>mlm</td>\n",
       "      <td>5e0956a6</td>\n",
       "      <td>2020-06-11T10:42:29</td>\n",
       "      <td>Victor</td>\n",
       "      <td>Сортировка весов по убыванию</td>\n",
       "      <td>3</td>\n",
       "    </tr>\n",
       "    <tr>\n",
       "      <th>4</th>\n",
       "      <td>mlm</td>\n",
       "      <td>b9f4b40c</td>\n",
       "      <td>2020-06-11T09:25:19</td>\n",
       "      <td>Victor</td>\n",
       "      <td>не надо конвертировать массив до операции по с...</td>\n",
       "      <td>7</td>\n",
       "    </tr>\n",
       "    <tr>\n",
       "      <th>...</th>\n",
       "      <td>...</td>\n",
       "      <td>...</td>\n",
       "      <td>...</td>\n",
       "      <td>...</td>\n",
       "      <td>...</td>\n",
       "      <td>...</td>\n",
       "    </tr>\n",
       "    <tr>\n",
       "      <th>314</th>\n",
       "      <td>sensor</td>\n",
       "      <td>5b1ecbcd</td>\n",
       "      <td>2020-03-23T12:54:35</td>\n",
       "      <td>Dabe</td>\n",
       "      <td>setting hostname</td>\n",
       "      <td>1</td>\n",
       "    </tr>\n",
       "    <tr>\n",
       "      <th>315</th>\n",
       "      <td>sensor</td>\n",
       "      <td>a3f5b753</td>\n",
       "      <td>2020-03-23T12:30:52</td>\n",
       "      <td>Dabe</td>\n",
       "      <td>heralding default dockerfile</td>\n",
       "      <td>2</td>\n",
       "    </tr>\n",
       "    <tr>\n",
       "      <th>316</th>\n",
       "      <td>sensor</td>\n",
       "      <td>e8155942</td>\n",
       "      <td>2020-03-23T11:27:40</td>\n",
       "      <td>Dabe</td>\n",
       "      <td>unnesserity /data path permissions setting</td>\n",
       "      <td>3</td>\n",
       "    </tr>\n",
       "    <tr>\n",
       "      <th>317</th>\n",
       "      <td>sensor</td>\n",
       "      <td>e748af51</td>\n",
       "      <td>2020-03-23T11:20:50</td>\n",
       "      <td>Dabe</td>\n",
       "      <td>added trapconductor</td>\n",
       "      <td>1</td>\n",
       "    </tr>\n",
       "    <tr>\n",
       "      <th>318</th>\n",
       "      <td>sensor</td>\n",
       "      <td>a4574093</td>\n",
       "      <td>2020-03-23T11:07:07</td>\n",
       "      <td>Dabe</td>\n",
       "      <td>sensor</td>\n",
       "      <td>1</td>\n",
       "    </tr>\n",
       "  </tbody>\n",
       "</table>\n",
       "<p>319 rows × 6 columns</p>\n",
       "</div>"
      ],
      "text/plain": [
       "    repository_name commit_hash          commit_date commit_author  \\\n",
       "0               mlm    b28abb42  2020-06-12T14:26:12        Victor   \n",
       "1               mlm    438b5c4d  2020-06-12T11:53:10        Victor   \n",
       "2               mlm    8e6e4f31  2020-06-11T15:19:03        Victor   \n",
       "3               mlm    5e0956a6  2020-06-11T10:42:29        Victor   \n",
       "4               mlm    b9f4b40c  2020-06-11T09:25:19        Victor   \n",
       "..              ...         ...                  ...           ...   \n",
       "314          sensor    5b1ecbcd  2020-03-23T12:54:35          Dabe   \n",
       "315          sensor    a3f5b753  2020-03-23T12:30:52          Dabe   \n",
       "316          sensor    e8155942  2020-03-23T11:27:40          Dabe   \n",
       "317          sensor    e748af51  2020-03-23T11:20:50          Dabe   \n",
       "318          sensor    a4574093  2020-03-23T11:07:07          Dabe   \n",
       "\n",
       "                                        commit_message  bugs  \n",
       "0               объяснения предсказаний с помощью lime     4  \n",
       "1                            Поставил lime вместо eli5     3  \n",
       "2                Скрипт для создния пакетов обновления     4  \n",
       "3                         Сортировка весов по убыванию     3  \n",
       "4    не надо конвертировать массив до операции по с...     7  \n",
       "..                                                 ...   ...  \n",
       "314                                   setting hostname     1  \n",
       "315                       heralding default dockerfile     2  \n",
       "316         unnesserity /data path permissions setting     3  \n",
       "317                                added trapconductor     1  \n",
       "318                                             sensor     1  \n",
       "\n",
       "[319 rows x 6 columns]"
      ]
     },
     "execution_count": 3,
     "metadata": {},
     "output_type": "execute_result"
    }
   ],
   "source": [
    "dataset"
   ]
  },
  {
   "cell_type": "markdown",
   "id": "unnecessary-addition",
   "metadata": {},
   "source": [
    "# Подготовка данных"
   ]
  },
  {
   "cell_type": "markdown",
   "id": "spread-macintosh",
   "metadata": {},
   "source": [
    "## Проверим пропуски"
   ]
  },
  {
   "cell_type": "code",
   "execution_count": 4,
   "id": "hairy-nature",
   "metadata": {},
   "outputs": [
    {
     "data": {
      "text/plain": [
       "repository_name    0\n",
       "commit_hash        0\n",
       "commit_date        0\n",
       "commit_author      0\n",
       "commit_message     0\n",
       "bugs               0\n",
       "dtype: int64"
      ]
     },
     "execution_count": 4,
     "metadata": {},
     "output_type": "execute_result"
    }
   ],
   "source": [
    "dataset.isna().sum()"
   ]
  },
  {
   "cell_type": "markdown",
   "id": "quality-miniature",
   "metadata": {},
   "source": [
    "Пропусков не обнаружено"
   ]
  },
  {
   "cell_type": "markdown",
   "id": "sacred-fireplace",
   "metadata": {},
   "source": [
    "## Изучение данных"
   ]
  },
  {
   "cell_type": "code",
   "execution_count": 5,
   "id": "imported-transsexual",
   "metadata": {},
   "outputs": [
    {
     "data": {
      "text/plain": [
       "array(['Victor', 'Peggy', 'Wendy', 'Trudy', 'Mallory', 'Eve', 'Dabe',\n",
       "       'Carol', 'Bob', 'Alice'], dtype=object)"
      ]
     },
     "execution_count": 5,
     "metadata": {},
     "output_type": "execute_result"
    }
   ],
   "source": [
    "dataset.commit_author.unique()"
   ]
  },
  {
   "cell_type": "code",
   "execution_count": 6,
   "id": "satellite-suggestion",
   "metadata": {
    "scrolled": true
   },
   "outputs": [
    {
     "data": {
      "text/plain": [
       "array(['mlm', 'standard', 'agent', 'conductor', 'dockers', 'sensor'],\n",
       "      dtype=object)"
      ]
     },
     "execution_count": 6,
     "metadata": {},
     "output_type": "execute_result"
    }
   ],
   "source": [
    "dataset.repository_name.unique()"
   ]
  },
  {
   "cell_type": "code",
   "execution_count": 7,
   "id": "completed-nightmare",
   "metadata": {},
   "outputs": [
    {
     "data": {
      "image/png": "[encoded data removed]",
      "text/plain": [
       "<Figure size 432x288 with 1 Axes>"
      ]
     },
     "metadata": {
      "needs_background": "light"
     },
     "output_type": "display_data"
    }
   ],
   "source": [
    "dataset['bugs'].hist()\n",
    "plt.xlabel('bugs')\n",
    "plt.ylabel('Количество')\n",
    "plt.show()"
   ]
  },
  {
   "cell_type": "code",
   "execution_count": 8,
   "id": "vanilla-passenger",
   "metadata": {
    "scrolled": true
   },
   "outputs": [
    {
     "data": {
      "text/plain": [
       "<AxesSubplot:>"
      ]
     },
     "execution_count": 8,
     "metadata": {},
     "output_type": "execute_result"
    },
    {
     "data": {
      "image/png": "[encoded data removed]",
      "text/plain": [
       "<Figure size 432x288 with 1 Axes>"
      ]
     },
     "metadata": {
      "needs_background": "light"
     },
     "output_type": "display_data"
    }
   ],
   "source": [
    "dataset.boxplot('bugs')"
   ]
  },
  {
   "cell_type": "code",
   "execution_count": 9,
   "id": "breathing-reggae",
   "metadata": {},
   "outputs": [
    {
     "data": {
      "text/plain": [
       "0.02821316614420063"
      ]
     },
     "execution_count": 9,
     "metadata": {},
     "output_type": "execute_result"
    }
   ],
   "source": [
    "dataset[dataset.bugs >7]['bugs'].count()/len(dataset)"
   ]
  },
  {
   "cell_type": "markdown",
   "id": "acoustic-adjustment",
   "metadata": {},
   "source": [
    "Исключим объекты с числом багов больше 7"
   ]
  },
  {
   "cell_type": "code",
   "execution_count": 10,
   "id": "wired-oxford",
   "metadata": {},
   "outputs": [],
   "source": [
    "dataset=dataset.drop(dataset[dataset.bugs>7].index, axis=0)"
   ]
  },
  {
   "cell_type": "code",
   "execution_count": 11,
   "id": "incoming-render",
   "metadata": {},
   "outputs": [
    {
     "data": {
      "text/html": [
       "<div>\n",
       "<style scoped>\n",
       "    .dataframe tbody tr th:only-of-type {\n",
       "        vertical-align: middle;\n",
       "    }\n",
       "\n",
       "    .dataframe tbody tr th {\n",
       "        vertical-align: top;\n",
       "    }\n",
       "\n",
       "    .dataframe thead th {\n",
       "        text-align: right;\n",
       "    }\n",
       "</style>\n",
       "<table border=\"1\" class=\"dataframe\">\n",
       "  <thead>\n",
       "    <tr style=\"text-align: right;\">\n",
       "      <th></th>\n",
       "      <th>repository_name</th>\n",
       "      <th>commit_hash</th>\n",
       "      <th>commit_date</th>\n",
       "      <th>commit_author</th>\n",
       "      <th>commit_message</th>\n",
       "      <th>bugs</th>\n",
       "    </tr>\n",
       "  </thead>\n",
       "  <tbody>\n",
       "    <tr>\n",
       "      <th>0</th>\n",
       "      <td>mlm</td>\n",
       "      <td>b28abb42</td>\n",
       "      <td>2020-06-12T14:26:12</td>\n",
       "      <td>Victor</td>\n",
       "      <td>объяснения предсказаний с помощью lime</td>\n",
       "      <td>4</td>\n",
       "    </tr>\n",
       "    <tr>\n",
       "      <th>1</th>\n",
       "      <td>mlm</td>\n",
       "      <td>438b5c4d</td>\n",
       "      <td>2020-06-12T11:53:10</td>\n",
       "      <td>Victor</td>\n",
       "      <td>Поставил lime вместо eli5</td>\n",
       "      <td>3</td>\n",
       "    </tr>\n",
       "    <tr>\n",
       "      <th>2</th>\n",
       "      <td>mlm</td>\n",
       "      <td>8e6e4f31</td>\n",
       "      <td>2020-06-11T15:19:03</td>\n",
       "      <td>Victor</td>\n",
       "      <td>Скрипт для создния пакетов обновления</td>\n",
       "      <td>4</td>\n",
       "    </tr>\n",
       "    <tr>\n",
       "      <th>3</th>\n",
       "      <td>mlm</td>\n",
       "      <td>5e0956a6</td>\n",
       "      <td>2020-06-11T10:42:29</td>\n",
       "      <td>Victor</td>\n",
       "      <td>Сортировка весов по убыванию</td>\n",
       "      <td>3</td>\n",
       "    </tr>\n",
       "    <tr>\n",
       "      <th>4</th>\n",
       "      <td>mlm</td>\n",
       "      <td>b9f4b40c</td>\n",
       "      <td>2020-06-11T09:25:19</td>\n",
       "      <td>Victor</td>\n",
       "      <td>не надо конвертировать массив до операции по с...</td>\n",
       "      <td>7</td>\n",
       "    </tr>\n",
       "    <tr>\n",
       "      <th>...</th>\n",
       "      <td>...</td>\n",
       "      <td>...</td>\n",
       "      <td>...</td>\n",
       "      <td>...</td>\n",
       "      <td>...</td>\n",
       "      <td>...</td>\n",
       "    </tr>\n",
       "    <tr>\n",
       "      <th>314</th>\n",
       "      <td>sensor</td>\n",
       "      <td>5b1ecbcd</td>\n",
       "      <td>2020-03-23T12:54:35</td>\n",
       "      <td>Dabe</td>\n",
       "      <td>setting hostname</td>\n",
       "      <td>1</td>\n",
       "    </tr>\n",
       "    <tr>\n",
       "      <th>315</th>\n",
       "      <td>sensor</td>\n",
       "      <td>a3f5b753</td>\n",
       "      <td>2020-03-23T12:30:52</td>\n",
       "      <td>Dabe</td>\n",
       "      <td>heralding default dockerfile</td>\n",
       "      <td>2</td>\n",
       "    </tr>\n",
       "    <tr>\n",
       "      <th>316</th>\n",
       "      <td>sensor</td>\n",
       "      <td>e8155942</td>\n",
       "      <td>2020-03-23T11:27:40</td>\n",
       "      <td>Dabe</td>\n",
       "      <td>unnesserity /data path permissions setting</td>\n",
       "      <td>3</td>\n",
       "    </tr>\n",
       "    <tr>\n",
       "      <th>317</th>\n",
       "      <td>sensor</td>\n",
       "      <td>e748af51</td>\n",
       "      <td>2020-03-23T11:20:50</td>\n",
       "      <td>Dabe</td>\n",
       "      <td>added trapconductor</td>\n",
       "      <td>1</td>\n",
       "    </tr>\n",
       "    <tr>\n",
       "      <th>318</th>\n",
       "      <td>sensor</td>\n",
       "      <td>a4574093</td>\n",
       "      <td>2020-03-23T11:07:07</td>\n",
       "      <td>Dabe</td>\n",
       "      <td>sensor</td>\n",
       "      <td>1</td>\n",
       "    </tr>\n",
       "  </tbody>\n",
       "</table>\n",
       "<p>310 rows × 6 columns</p>\n",
       "</div>"
      ],
      "text/plain": [
       "    repository_name commit_hash          commit_date commit_author  \\\n",
       "0               mlm    b28abb42  2020-06-12T14:26:12        Victor   \n",
       "1               mlm    438b5c4d  2020-06-12T11:53:10        Victor   \n",
       "2               mlm    8e6e4f31  2020-06-11T15:19:03        Victor   \n",
       "3               mlm    5e0956a6  2020-06-11T10:42:29        Victor   \n",
       "4               mlm    b9f4b40c  2020-06-11T09:25:19        Victor   \n",
       "..              ...         ...                  ...           ...   \n",
       "314          sensor    5b1ecbcd  2020-03-23T12:54:35          Dabe   \n",
       "315          sensor    a3f5b753  2020-03-23T12:30:52          Dabe   \n",
       "316          sensor    e8155942  2020-03-23T11:27:40          Dabe   \n",
       "317          sensor    e748af51  2020-03-23T11:20:50          Dabe   \n",
       "318          sensor    a4574093  2020-03-23T11:07:07          Dabe   \n",
       "\n",
       "                                        commit_message  bugs  \n",
       "0               объяснения предсказаний с помощью lime     4  \n",
       "1                            Поставил lime вместо eli5     3  \n",
       "2                Скрипт для создния пакетов обновления     4  \n",
       "3                         Сортировка весов по убыванию     3  \n",
       "4    не надо конвертировать массив до операции по с...     7  \n",
       "..                                                 ...   ...  \n",
       "314                                   setting hostname     1  \n",
       "315                       heralding default dockerfile     2  \n",
       "316         unnesserity /data path permissions setting     3  \n",
       "317                                added trapconductor     1  \n",
       "318                                             sensor     1  \n",
       "\n",
       "[310 rows x 6 columns]"
      ]
     },
     "execution_count": 11,
     "metadata": {},
     "output_type": "execute_result"
    }
   ],
   "source": [
    "dataset"
   ]
  },
  {
   "cell_type": "markdown",
   "id": "missing-mistress",
   "metadata": {},
   "source": [
    "## Гипотезы о зависимостях и о feature engineering"
   ]
  },
  {
   "cell_type": "markdown",
   "id": "fresh-spelling",
   "metadata": {},
   "source": [
    "Выдвигаю следующие предварительные гипотезы:\n",
    "1) Целевой признак коррелирует с признаком 'commit_author'.\n",
    "\n",
    "2) Целевой признак зависит от времени суток, когда был совершён коммит.\n",
    "\n",
    "3) Целевой признак может зависеть от дня недели, когда был совершён коммит.\n",
    "\n",
    "4) Целевой признак может зависеть от имени репозитория.\n",
    "\n",
    "5) Целевой признак зависит от длины commit_message\n",
    "\n",
    "При этом рассматривать признак <b>commit_hash</b> не буду (хэш коммита - по сути его идентификатор. Он уникален и никоим образом на целевой признак влиять не может)"
   ]
  },
  {
   "cell_type": "markdown",
   "id": "necessary-march",
   "metadata": {},
   "source": [
    "## Гипотеза 1. Автор коммита"
   ]
  },
  {
   "cell_type": "code",
   "execution_count": 12,
   "id": "upset-stationery",
   "metadata": {},
   "outputs": [
    {
     "data": {
      "text/plain": [
       "commit_author\n",
       "Alice        2\n",
       "Bob          2\n",
       "Carol        4\n",
       "Dabe        42\n",
       "Eve          9\n",
       "Mallory     66\n",
       "Peggy        2\n",
       "Trudy        9\n",
       "Victor     126\n",
       "Wendy       48\n",
       "Name: commit_hash, dtype: int64"
      ]
     },
     "execution_count": 12,
     "metadata": {},
     "output_type": "execute_result"
    }
   ],
   "source": [
    "# число коммитов, совершенных разработчиками\n",
    "commits = dataset.groupby(dataset.commit_author).commit_hash.count()\n",
    "commits"
   ]
  },
  {
   "cell_type": "code",
   "execution_count": 13,
   "id": "professional-fleet",
   "metadata": {
    "scrolled": true
   },
   "outputs": [
    {
     "data": {
      "text/html": [
       "<div>\n",
       "<style scoped>\n",
       "    .dataframe tbody tr th:only-of-type {\n",
       "        vertical-align: middle;\n",
       "    }\n",
       "\n",
       "    .dataframe tbody tr th {\n",
       "        vertical-align: top;\n",
       "    }\n",
       "\n",
       "    .dataframe thead th {\n",
       "        text-align: right;\n",
       "    }\n",
       "</style>\n",
       "<table border=\"1\" class=\"dataframe\">\n",
       "  <thead>\n",
       "    <tr style=\"text-align: right;\">\n",
       "      <th></th>\n",
       "      <th>bugs</th>\n",
       "    </tr>\n",
       "    <tr>\n",
       "      <th>commit_author</th>\n",
       "      <th></th>\n",
       "    </tr>\n",
       "  </thead>\n",
       "  <tbody>\n",
       "    <tr>\n",
       "      <th>Alice</th>\n",
       "      <td>1</td>\n",
       "    </tr>\n",
       "    <tr>\n",
       "      <th>Bob</th>\n",
       "      <td>5</td>\n",
       "    </tr>\n",
       "    <tr>\n",
       "      <th>Carol</th>\n",
       "      <td>6</td>\n",
       "    </tr>\n",
       "    <tr>\n",
       "      <th>Dabe</th>\n",
       "      <td>101</td>\n",
       "    </tr>\n",
       "    <tr>\n",
       "      <th>Eve</th>\n",
       "      <td>32</td>\n",
       "    </tr>\n",
       "    <tr>\n",
       "      <th>Mallory</th>\n",
       "      <td>205</td>\n",
       "    </tr>\n",
       "    <tr>\n",
       "      <th>Peggy</th>\n",
       "      <td>7</td>\n",
       "    </tr>\n",
       "    <tr>\n",
       "      <th>Trudy</th>\n",
       "      <td>19</td>\n",
       "    </tr>\n",
       "    <tr>\n",
       "      <th>Victor</th>\n",
       "      <td>385</td>\n",
       "    </tr>\n",
       "    <tr>\n",
       "      <th>Wendy</th>\n",
       "      <td>108</td>\n",
       "    </tr>\n",
       "  </tbody>\n",
       "</table>\n",
       "</div>"
      ],
      "text/plain": [
       "               bugs\n",
       "commit_author      \n",
       "Alice             1\n",
       "Bob               5\n",
       "Carol             6\n",
       "Dabe            101\n",
       "Eve              32\n",
       "Mallory         205\n",
       "Peggy             7\n",
       "Trudy            19\n",
       "Victor          385\n",
       "Wendy           108"
      ]
     },
     "execution_count": 13,
     "metadata": {},
     "output_type": "execute_result"
    }
   ],
   "source": [
    "# число багов, совершенных разработчиками\n",
    "bugs = dataset.groupby(dataset.commit_author).sum()\n",
    "bugs"
   ]
  },
  {
   "cell_type": "markdown",
   "id": "chronic-lover",
   "metadata": {},
   "source": [
    "Заметно, что разработчики заметно отличаются друг от друга как по числу коммитов, так и по числу багов. Поэтому введен новый признак - среднее значение багов на разработчика"
   ]
  },
  {
   "cell_type": "code",
   "execution_count": 14,
   "id": "accepted-auditor",
   "metadata": {},
   "outputs": [
    {
     "data": {
      "text/html": [
       "<div>\n",
       "<style scoped>\n",
       "    .dataframe tbody tr th:only-of-type {\n",
       "        vertical-align: middle;\n",
       "    }\n",
       "\n",
       "    .dataframe tbody tr th {\n",
       "        vertical-align: top;\n",
       "    }\n",
       "\n",
       "    .dataframe thead th {\n",
       "        text-align: right;\n",
       "    }\n",
       "</style>\n",
       "<table border=\"1\" class=\"dataframe\">\n",
       "  <thead>\n",
       "    <tr style=\"text-align: right;\">\n",
       "      <th></th>\n",
       "      <th>repository_name</th>\n",
       "      <th>commit_hash</th>\n",
       "      <th>commit_date</th>\n",
       "      <th>commit_author</th>\n",
       "      <th>commit_message</th>\n",
       "      <th>bugs</th>\n",
       "      <th>mean_per_author</th>\n",
       "    </tr>\n",
       "  </thead>\n",
       "  <tbody>\n",
       "    <tr>\n",
       "      <th>0</th>\n",
       "      <td>mlm</td>\n",
       "      <td>b28abb42</td>\n",
       "      <td>2020-06-12T14:26:12</td>\n",
       "      <td>Victor</td>\n",
       "      <td>объяснения предсказаний с помощью lime</td>\n",
       "      <td>4</td>\n",
       "      <td>3.055556</td>\n",
       "    </tr>\n",
       "    <tr>\n",
       "      <th>1</th>\n",
       "      <td>mlm</td>\n",
       "      <td>438b5c4d</td>\n",
       "      <td>2020-06-12T11:53:10</td>\n",
       "      <td>Victor</td>\n",
       "      <td>Поставил lime вместо eli5</td>\n",
       "      <td>3</td>\n",
       "      <td>3.055556</td>\n",
       "    </tr>\n",
       "    <tr>\n",
       "      <th>2</th>\n",
       "      <td>mlm</td>\n",
       "      <td>8e6e4f31</td>\n",
       "      <td>2020-06-11T15:19:03</td>\n",
       "      <td>Victor</td>\n",
       "      <td>Скрипт для создния пакетов обновления</td>\n",
       "      <td>4</td>\n",
       "      <td>3.055556</td>\n",
       "    </tr>\n",
       "    <tr>\n",
       "      <th>3</th>\n",
       "      <td>mlm</td>\n",
       "      <td>5e0956a6</td>\n",
       "      <td>2020-06-11T10:42:29</td>\n",
       "      <td>Victor</td>\n",
       "      <td>Сортировка весов по убыванию</td>\n",
       "      <td>3</td>\n",
       "      <td>3.055556</td>\n",
       "    </tr>\n",
       "    <tr>\n",
       "      <th>4</th>\n",
       "      <td>mlm</td>\n",
       "      <td>b9f4b40c</td>\n",
       "      <td>2020-06-11T09:25:19</td>\n",
       "      <td>Victor</td>\n",
       "      <td>не надо конвертировать массив до операции по с...</td>\n",
       "      <td>7</td>\n",
       "      <td>3.055556</td>\n",
       "    </tr>\n",
       "    <tr>\n",
       "      <th>...</th>\n",
       "      <td>...</td>\n",
       "      <td>...</td>\n",
       "      <td>...</td>\n",
       "      <td>...</td>\n",
       "      <td>...</td>\n",
       "      <td>...</td>\n",
       "      <td>...</td>\n",
       "    </tr>\n",
       "    <tr>\n",
       "      <th>314</th>\n",
       "      <td>sensor</td>\n",
       "      <td>5b1ecbcd</td>\n",
       "      <td>2020-03-23T12:54:35</td>\n",
       "      <td>Dabe</td>\n",
       "      <td>setting hostname</td>\n",
       "      <td>1</td>\n",
       "      <td>2.404762</td>\n",
       "    </tr>\n",
       "    <tr>\n",
       "      <th>315</th>\n",
       "      <td>sensor</td>\n",
       "      <td>a3f5b753</td>\n",
       "      <td>2020-03-23T12:30:52</td>\n",
       "      <td>Dabe</td>\n",
       "      <td>heralding default dockerfile</td>\n",
       "      <td>2</td>\n",
       "      <td>2.404762</td>\n",
       "    </tr>\n",
       "    <tr>\n",
       "      <th>316</th>\n",
       "      <td>sensor</td>\n",
       "      <td>e8155942</td>\n",
       "      <td>2020-03-23T11:27:40</td>\n",
       "      <td>Dabe</td>\n",
       "      <td>unnesserity /data path permissions setting</td>\n",
       "      <td>3</td>\n",
       "      <td>2.404762</td>\n",
       "    </tr>\n",
       "    <tr>\n",
       "      <th>317</th>\n",
       "      <td>sensor</td>\n",
       "      <td>e748af51</td>\n",
       "      <td>2020-03-23T11:20:50</td>\n",
       "      <td>Dabe</td>\n",
       "      <td>added trapconductor</td>\n",
       "      <td>1</td>\n",
       "      <td>2.404762</td>\n",
       "    </tr>\n",
       "    <tr>\n",
       "      <th>318</th>\n",
       "      <td>sensor</td>\n",
       "      <td>a4574093</td>\n",
       "      <td>2020-03-23T11:07:07</td>\n",
       "      <td>Dabe</td>\n",
       "      <td>sensor</td>\n",
       "      <td>1</td>\n",
       "      <td>2.404762</td>\n",
       "    </tr>\n",
       "  </tbody>\n",
       "</table>\n",
       "<p>310 rows × 7 columns</p>\n",
       "</div>"
      ],
      "text/plain": [
       "    repository_name commit_hash          commit_date commit_author  \\\n",
       "0               mlm    b28abb42  2020-06-12T14:26:12        Victor   \n",
       "1               mlm    438b5c4d  2020-06-12T11:53:10        Victor   \n",
       "2               mlm    8e6e4f31  2020-06-11T15:19:03        Victor   \n",
       "3               mlm    5e0956a6  2020-06-11T10:42:29        Victor   \n",
       "4               mlm    b9f4b40c  2020-06-11T09:25:19        Victor   \n",
       "..              ...         ...                  ...           ...   \n",
       "314          sensor    5b1ecbcd  2020-03-23T12:54:35          Dabe   \n",
       "315          sensor    a3f5b753  2020-03-23T12:30:52          Dabe   \n",
       "316          sensor    e8155942  2020-03-23T11:27:40          Dabe   \n",
       "317          sensor    e748af51  2020-03-23T11:20:50          Dabe   \n",
       "318          sensor    a4574093  2020-03-23T11:07:07          Dabe   \n",
       "\n",
       "                                        commit_message  bugs  mean_per_author  \n",
       "0               объяснения предсказаний с помощью lime     4         3.055556  \n",
       "1                            Поставил lime вместо eli5     3         3.055556  \n",
       "2                Скрипт для создния пакетов обновления     4         3.055556  \n",
       "3                         Сортировка весов по убыванию     3         3.055556  \n",
       "4    не надо конвертировать массив до операции по с...     7         3.055556  \n",
       "..                                                 ...   ...              ...  \n",
       "314                                   setting hostname     1         2.404762  \n",
       "315                       heralding default dockerfile     2         2.404762  \n",
       "316         unnesserity /data path permissions setting     3         2.404762  \n",
       "317                                added trapconductor     1         2.404762  \n",
       "318                                             sensor     1         2.404762  \n",
       "\n",
       "[310 rows x 7 columns]"
      ]
     },
     "execution_count": 14,
     "metadata": {},
     "output_type": "execute_result"
    }
   ],
   "source": [
    "author_means = dataset.groupby(dataset.commit_author)['bugs'].mean()\n",
    "dataset['mean_per_author'] = dataset.commit_author.map(author_means)\n",
    "dataset"
   ]
  },
  {
   "cell_type": "markdown",
   "id": "reflected-inclusion",
   "metadata": {},
   "source": [
    "Проверим корреляцию:"
   ]
  },
  {
   "cell_type": "code",
   "execution_count": 15,
   "id": "sonic-lodging",
   "metadata": {},
   "outputs": [
    {
     "data": {
      "text/plain": [
       "<matplotlib.collections.PathCollection at 0x26e74b72ac8>"
      ]
     },
     "execution_count": 15,
     "metadata": {},
     "output_type": "execute_result"
    },
    {
     "data": {
      "image/png": "[encoded data removed]",
      "text/plain": [
       "<Figure size 432x288 with 1 Axes>"
      ]
     },
     "metadata": {
      "needs_background": "light"
     },
     "output_type": "display_data"
    }
   ],
   "source": [
    "plt.scatter(dataset.mean_per_author, dataset.bugs)"
   ]
  },
  {
   "cell_type": "code",
   "execution_count": 16,
   "id": "virtual-german",
   "metadata": {},
   "outputs": [
    {
     "data": {
      "text/html": [
       "<div>\n",
       "<style scoped>\n",
       "    .dataframe tbody tr th:only-of-type {\n",
       "        vertical-align: middle;\n",
       "    }\n",
       "\n",
       "    .dataframe tbody tr th {\n",
       "        vertical-align: top;\n",
       "    }\n",
       "\n",
       "    .dataframe thead th {\n",
       "        text-align: right;\n",
       "    }\n",
       "</style>\n",
       "<table border=\"1\" class=\"dataframe\">\n",
       "  <thead>\n",
       "    <tr style=\"text-align: right;\">\n",
       "      <th></th>\n",
       "      <th>bugs</th>\n",
       "      <th>mean_per_author</th>\n",
       "    </tr>\n",
       "  </thead>\n",
       "  <tbody>\n",
       "    <tr>\n",
       "      <th>bugs</th>\n",
       "      <td>1.000000</td>\n",
       "      <td>0.309698</td>\n",
       "    </tr>\n",
       "    <tr>\n",
       "      <th>mean_per_author</th>\n",
       "      <td>0.309698</td>\n",
       "      <td>1.000000</td>\n",
       "    </tr>\n",
       "  </tbody>\n",
       "</table>\n",
       "</div>"
      ],
      "text/plain": [
       "                     bugs  mean_per_author\n",
       "bugs             1.000000         0.309698\n",
       "mean_per_author  0.309698         1.000000"
      ]
     },
     "execution_count": 16,
     "metadata": {},
     "output_type": "execute_result"
    }
   ],
   "source": [
    "dataset.corr()"
   ]
  },
  {
   "cell_type": "markdown",
   "id": "rough-beverage",
   "metadata": {},
   "source": [
    "Заметна некоторая зависимость: чем больше значение mean_per_author, тем больше багов может допустить разработчик"
   ]
  },
  {
   "cell_type": "markdown",
   "id": "invalid-retrieval",
   "metadata": {},
   "source": [
    "## Гипотезы 2 и 3. Дата и время"
   ]
  },
  {
   "cell_type": "code",
   "execution_count": 17,
   "id": "exempt-consciousness",
   "metadata": {},
   "outputs": [],
   "source": [
    "# преобразование строки к типу дата-время\n",
    "dataset.commit_date = pd.to_datetime(dataset['commit_date'],\n",
    "                                     format='%Y-%m-%dT%H:%M:%S')"
   ]
  },
  {
   "cell_type": "code",
   "execution_count": 18,
   "id": "global-violin",
   "metadata": {},
   "outputs": [
    {
     "data": {
      "text/html": [
       "<div>\n",
       "<style scoped>\n",
       "    .dataframe tbody tr th:only-of-type {\n",
       "        vertical-align: middle;\n",
       "    }\n",
       "\n",
       "    .dataframe tbody tr th {\n",
       "        vertical-align: top;\n",
       "    }\n",
       "\n",
       "    .dataframe thead th {\n",
       "        text-align: right;\n",
       "    }\n",
       "</style>\n",
       "<table border=\"1\" class=\"dataframe\">\n",
       "  <thead>\n",
       "    <tr style=\"text-align: right;\">\n",
       "      <th></th>\n",
       "      <th>repository_name</th>\n",
       "      <th>commit_hash</th>\n",
       "      <th>commit_date</th>\n",
       "      <th>commit_author</th>\n",
       "      <th>commit_message</th>\n",
       "      <th>bugs</th>\n",
       "      <th>mean_per_author</th>\n",
       "    </tr>\n",
       "  </thead>\n",
       "  <tbody>\n",
       "    <tr>\n",
       "      <th>0</th>\n",
       "      <td>mlm</td>\n",
       "      <td>b28abb42</td>\n",
       "      <td>2020-06-12 14:26:12</td>\n",
       "      <td>Victor</td>\n",
       "      <td>объяснения предсказаний с помощью lime</td>\n",
       "      <td>4</td>\n",
       "      <td>3.055556</td>\n",
       "    </tr>\n",
       "    <tr>\n",
       "      <th>1</th>\n",
       "      <td>mlm</td>\n",
       "      <td>438b5c4d</td>\n",
       "      <td>2020-06-12 11:53:10</td>\n",
       "      <td>Victor</td>\n",
       "      <td>Поставил lime вместо eli5</td>\n",
       "      <td>3</td>\n",
       "      <td>3.055556</td>\n",
       "    </tr>\n",
       "    <tr>\n",
       "      <th>2</th>\n",
       "      <td>mlm</td>\n",
       "      <td>8e6e4f31</td>\n",
       "      <td>2020-06-11 15:19:03</td>\n",
       "      <td>Victor</td>\n",
       "      <td>Скрипт для создния пакетов обновления</td>\n",
       "      <td>4</td>\n",
       "      <td>3.055556</td>\n",
       "    </tr>\n",
       "    <tr>\n",
       "      <th>3</th>\n",
       "      <td>mlm</td>\n",
       "      <td>5e0956a6</td>\n",
       "      <td>2020-06-11 10:42:29</td>\n",
       "      <td>Victor</td>\n",
       "      <td>Сортировка весов по убыванию</td>\n",
       "      <td>3</td>\n",
       "      <td>3.055556</td>\n",
       "    </tr>\n",
       "    <tr>\n",
       "      <th>4</th>\n",
       "      <td>mlm</td>\n",
       "      <td>b9f4b40c</td>\n",
       "      <td>2020-06-11 09:25:19</td>\n",
       "      <td>Victor</td>\n",
       "      <td>не надо конвертировать массив до операции по с...</td>\n",
       "      <td>7</td>\n",
       "      <td>3.055556</td>\n",
       "    </tr>\n",
       "    <tr>\n",
       "      <th>...</th>\n",
       "      <td>...</td>\n",
       "      <td>...</td>\n",
       "      <td>...</td>\n",
       "      <td>...</td>\n",
       "      <td>...</td>\n",
       "      <td>...</td>\n",
       "      <td>...</td>\n",
       "    </tr>\n",
       "    <tr>\n",
       "      <th>314</th>\n",
       "      <td>sensor</td>\n",
       "      <td>5b1ecbcd</td>\n",
       "      <td>2020-03-23 12:54:35</td>\n",
       "      <td>Dabe</td>\n",
       "      <td>setting hostname</td>\n",
       "      <td>1</td>\n",
       "      <td>2.404762</td>\n",
       "    </tr>\n",
       "    <tr>\n",
       "      <th>315</th>\n",
       "      <td>sensor</td>\n",
       "      <td>a3f5b753</td>\n",
       "      <td>2020-03-23 12:30:52</td>\n",
       "      <td>Dabe</td>\n",
       "      <td>heralding default dockerfile</td>\n",
       "      <td>2</td>\n",
       "      <td>2.404762</td>\n",
       "    </tr>\n",
       "    <tr>\n",
       "      <th>316</th>\n",
       "      <td>sensor</td>\n",
       "      <td>e8155942</td>\n",
       "      <td>2020-03-23 11:27:40</td>\n",
       "      <td>Dabe</td>\n",
       "      <td>unnesserity /data path permissions setting</td>\n",
       "      <td>3</td>\n",
       "      <td>2.404762</td>\n",
       "    </tr>\n",
       "    <tr>\n",
       "      <th>317</th>\n",
       "      <td>sensor</td>\n",
       "      <td>e748af51</td>\n",
       "      <td>2020-03-23 11:20:50</td>\n",
       "      <td>Dabe</td>\n",
       "      <td>added trapconductor</td>\n",
       "      <td>1</td>\n",
       "      <td>2.404762</td>\n",
       "    </tr>\n",
       "    <tr>\n",
       "      <th>318</th>\n",
       "      <td>sensor</td>\n",
       "      <td>a4574093</td>\n",
       "      <td>2020-03-23 11:07:07</td>\n",
       "      <td>Dabe</td>\n",
       "      <td>sensor</td>\n",
       "      <td>1</td>\n",
       "      <td>2.404762</td>\n",
       "    </tr>\n",
       "  </tbody>\n",
       "</table>\n",
       "<p>310 rows × 7 columns</p>\n",
       "</div>"
      ],
      "text/plain": [
       "    repository_name commit_hash         commit_date commit_author  \\\n",
       "0               mlm    b28abb42 2020-06-12 14:26:12        Victor   \n",
       "1               mlm    438b5c4d 2020-06-12 11:53:10        Victor   \n",
       "2               mlm    8e6e4f31 2020-06-11 15:19:03        Victor   \n",
       "3               mlm    5e0956a6 2020-06-11 10:42:29        Victor   \n",
       "4               mlm    b9f4b40c 2020-06-11 09:25:19        Victor   \n",
       "..              ...         ...                 ...           ...   \n",
       "314          sensor    5b1ecbcd 2020-03-23 12:54:35          Dabe   \n",
       "315          sensor    a3f5b753 2020-03-23 12:30:52          Dabe   \n",
       "316          sensor    e8155942 2020-03-23 11:27:40          Dabe   \n",
       "317          sensor    e748af51 2020-03-23 11:20:50          Dabe   \n",
       "318          sensor    a4574093 2020-03-23 11:07:07          Dabe   \n",
       "\n",
       "                                        commit_message  bugs  mean_per_author  \n",
       "0               объяснения предсказаний с помощью lime     4         3.055556  \n",
       "1                            Поставил lime вместо eli5     3         3.055556  \n",
       "2                Скрипт для создния пакетов обновления     4         3.055556  \n",
       "3                         Сортировка весов по убыванию     3         3.055556  \n",
       "4    не надо конвертировать массив до операции по с...     7         3.055556  \n",
       "..                                                 ...   ...              ...  \n",
       "314                                   setting hostname     1         2.404762  \n",
       "315                       heralding default dockerfile     2         2.404762  \n",
       "316         unnesserity /data path permissions setting     3         2.404762  \n",
       "317                                added trapconductor     1         2.404762  \n",
       "318                                             sensor     1         2.404762  \n",
       "\n",
       "[310 rows x 7 columns]"
      ]
     },
     "execution_count": 18,
     "metadata": {},
     "output_type": "execute_result"
    }
   ],
   "source": [
    "dataset"
   ]
  },
  {
   "cell_type": "code",
   "execution_count": 19,
   "id": "critical-income",
   "metadata": {},
   "outputs": [
    {
     "name": "stdout",
     "output_type": "stream",
     "text": [
      "2020-03-08 14:26:16 --- 2020-06-12 14:26:12\n"
     ]
    }
   ],
   "source": [
    "print(dataset.commit_date.min(), dataset.commit_date.max(), sep=' --- ')"
   ]
  },
  {
   "cell_type": "markdown",
   "id": "czech-bradley",
   "metadata": {},
   "source": [
    "Представлены данные за месяца с марта по июнь одного года. То есть использовать год и месяц в качестве признаков нельзя"
   ]
  },
  {
   "cell_type": "code",
   "execution_count": 20,
   "id": "final-fleet",
   "metadata": {},
   "outputs": [
    {
     "data": {
      "text/html": [
       "<div>\n",
       "<style scoped>\n",
       "    .dataframe tbody tr th:only-of-type {\n",
       "        vertical-align: middle;\n",
       "    }\n",
       "\n",
       "    .dataframe tbody tr th {\n",
       "        vertical-align: top;\n",
       "    }\n",
       "\n",
       "    .dataframe thead th {\n",
       "        text-align: right;\n",
       "    }\n",
       "</style>\n",
       "<table border=\"1\" class=\"dataframe\">\n",
       "  <thead>\n",
       "    <tr style=\"text-align: right;\">\n",
       "      <th></th>\n",
       "      <th>repository_name</th>\n",
       "      <th>commit_hash</th>\n",
       "      <th>commit_date</th>\n",
       "      <th>commit_author</th>\n",
       "      <th>commit_message</th>\n",
       "      <th>bugs</th>\n",
       "      <th>mean_per_author</th>\n",
       "      <th>day_of_week</th>\n",
       "    </tr>\n",
       "  </thead>\n",
       "  <tbody>\n",
       "    <tr>\n",
       "      <th>0</th>\n",
       "      <td>mlm</td>\n",
       "      <td>b28abb42</td>\n",
       "      <td>2020-06-12 14:26:12</td>\n",
       "      <td>Victor</td>\n",
       "      <td>объяснения предсказаний с помощью lime</td>\n",
       "      <td>4</td>\n",
       "      <td>3.055556</td>\n",
       "      <td>4</td>\n",
       "    </tr>\n",
       "    <tr>\n",
       "      <th>1</th>\n",
       "      <td>mlm</td>\n",
       "      <td>438b5c4d</td>\n",
       "      <td>2020-06-12 11:53:10</td>\n",
       "      <td>Victor</td>\n",
       "      <td>Поставил lime вместо eli5</td>\n",
       "      <td>3</td>\n",
       "      <td>3.055556</td>\n",
       "      <td>4</td>\n",
       "    </tr>\n",
       "    <tr>\n",
       "      <th>2</th>\n",
       "      <td>mlm</td>\n",
       "      <td>8e6e4f31</td>\n",
       "      <td>2020-06-11 15:19:03</td>\n",
       "      <td>Victor</td>\n",
       "      <td>Скрипт для создния пакетов обновления</td>\n",
       "      <td>4</td>\n",
       "      <td>3.055556</td>\n",
       "      <td>3</td>\n",
       "    </tr>\n",
       "    <tr>\n",
       "      <th>3</th>\n",
       "      <td>mlm</td>\n",
       "      <td>5e0956a6</td>\n",
       "      <td>2020-06-11 10:42:29</td>\n",
       "      <td>Victor</td>\n",
       "      <td>Сортировка весов по убыванию</td>\n",
       "      <td>3</td>\n",
       "      <td>3.055556</td>\n",
       "      <td>3</td>\n",
       "    </tr>\n",
       "    <tr>\n",
       "      <th>4</th>\n",
       "      <td>mlm</td>\n",
       "      <td>b9f4b40c</td>\n",
       "      <td>2020-06-11 09:25:19</td>\n",
       "      <td>Victor</td>\n",
       "      <td>не надо конвертировать массив до операции по с...</td>\n",
       "      <td>7</td>\n",
       "      <td>3.055556</td>\n",
       "      <td>3</td>\n",
       "    </tr>\n",
       "    <tr>\n",
       "      <th>...</th>\n",
       "      <td>...</td>\n",
       "      <td>...</td>\n",
       "      <td>...</td>\n",
       "      <td>...</td>\n",
       "      <td>...</td>\n",
       "      <td>...</td>\n",
       "      <td>...</td>\n",
       "      <td>...</td>\n",
       "    </tr>\n",
       "    <tr>\n",
       "      <th>314</th>\n",
       "      <td>sensor</td>\n",
       "      <td>5b1ecbcd</td>\n",
       "      <td>2020-03-23 12:54:35</td>\n",
       "      <td>Dabe</td>\n",
       "      <td>setting hostname</td>\n",
       "      <td>1</td>\n",
       "      <td>2.404762</td>\n",
       "      <td>0</td>\n",
       "    </tr>\n",
       "    <tr>\n",
       "      <th>315</th>\n",
       "      <td>sensor</td>\n",
       "      <td>a3f5b753</td>\n",
       "      <td>2020-03-23 12:30:52</td>\n",
       "      <td>Dabe</td>\n",
       "      <td>heralding default dockerfile</td>\n",
       "      <td>2</td>\n",
       "      <td>2.404762</td>\n",
       "      <td>0</td>\n",
       "    </tr>\n",
       "    <tr>\n",
       "      <th>316</th>\n",
       "      <td>sensor</td>\n",
       "      <td>e8155942</td>\n",
       "      <td>2020-03-23 11:27:40</td>\n",
       "      <td>Dabe</td>\n",
       "      <td>unnesserity /data path permissions setting</td>\n",
       "      <td>3</td>\n",
       "      <td>2.404762</td>\n",
       "      <td>0</td>\n",
       "    </tr>\n",
       "    <tr>\n",
       "      <th>317</th>\n",
       "      <td>sensor</td>\n",
       "      <td>e748af51</td>\n",
       "      <td>2020-03-23 11:20:50</td>\n",
       "      <td>Dabe</td>\n",
       "      <td>added trapconductor</td>\n",
       "      <td>1</td>\n",
       "      <td>2.404762</td>\n",
       "      <td>0</td>\n",
       "    </tr>\n",
       "    <tr>\n",
       "      <th>318</th>\n",
       "      <td>sensor</td>\n",
       "      <td>a4574093</td>\n",
       "      <td>2020-03-23 11:07:07</td>\n",
       "      <td>Dabe</td>\n",
       "      <td>sensor</td>\n",
       "      <td>1</td>\n",
       "      <td>2.404762</td>\n",
       "      <td>0</td>\n",
       "    </tr>\n",
       "  </tbody>\n",
       "</table>\n",
       "<p>310 rows × 8 columns</p>\n",
       "</div>"
      ],
      "text/plain": [
       "    repository_name commit_hash         commit_date commit_author  \\\n",
       "0               mlm    b28abb42 2020-06-12 14:26:12        Victor   \n",
       "1               mlm    438b5c4d 2020-06-12 11:53:10        Victor   \n",
       "2               mlm    8e6e4f31 2020-06-11 15:19:03        Victor   \n",
       "3               mlm    5e0956a6 2020-06-11 10:42:29        Victor   \n",
       "4               mlm    b9f4b40c 2020-06-11 09:25:19        Victor   \n",
       "..              ...         ...                 ...           ...   \n",
       "314          sensor    5b1ecbcd 2020-03-23 12:54:35          Dabe   \n",
       "315          sensor    a3f5b753 2020-03-23 12:30:52          Dabe   \n",
       "316          sensor    e8155942 2020-03-23 11:27:40          Dabe   \n",
       "317          sensor    e748af51 2020-03-23 11:20:50          Dabe   \n",
       "318          sensor    a4574093 2020-03-23 11:07:07          Dabe   \n",
       "\n",
       "                                        commit_message  bugs  mean_per_author  \\\n",
       "0               объяснения предсказаний с помощью lime     4         3.055556   \n",
       "1                            Поставил lime вместо eli5     3         3.055556   \n",
       "2                Скрипт для создния пакетов обновления     4         3.055556   \n",
       "3                         Сортировка весов по убыванию     3         3.055556   \n",
       "4    не надо конвертировать массив до операции по с...     7         3.055556   \n",
       "..                                                 ...   ...              ...   \n",
       "314                                   setting hostname     1         2.404762   \n",
       "315                       heralding default dockerfile     2         2.404762   \n",
       "316         unnesserity /data path permissions setting     3         2.404762   \n",
       "317                                added trapconductor     1         2.404762   \n",
       "318                                             sensor     1         2.404762   \n",
       "\n",
       "     day_of_week  \n",
       "0              4  \n",
       "1              4  \n",
       "2              3  \n",
       "3              3  \n",
       "4              3  \n",
       "..           ...  \n",
       "314            0  \n",
       "315            0  \n",
       "316            0  \n",
       "317            0  \n",
       "318            0  \n",
       "\n",
       "[310 rows x 8 columns]"
      ]
     },
     "execution_count": 20,
     "metadata": {},
     "output_type": "execute_result"
    }
   ],
   "source": [
    "# рассмотрим день недели как признак\n",
    "dataset['day_of_week'] = dataset.commit_date.dt.day_of_week\n",
    "dataset"
   ]
  },
  {
   "cell_type": "code",
   "execution_count": 21,
   "id": "innovative-federal",
   "metadata": {},
   "outputs": [
    {
     "name": "stdout",
     "output_type": "stream",
     "text": [
      "0 6\n"
     ]
    }
   ],
   "source": [
    "print(dataset.day_of_week.min(), dataset.day_of_week.max())"
   ]
  },
  {
   "cell_type": "code",
   "execution_count": 22,
   "id": "sonic-poetry",
   "metadata": {
    "scrolled": true
   },
   "outputs": [
    {
     "data": {
      "text/plain": [
       "<matplotlib.collections.PathCollection at 0x26e74dcc4e0>"
      ]
     },
     "execution_count": 22,
     "metadata": {},
     "output_type": "execute_result"
    },
    {
     "data": {
      "image/png": "[encoded data removed]",
      "text/plain": [
       "<Figure size 432x288 with 1 Axes>"
      ]
     },
     "metadata": {
      "needs_background": "light"
     },
     "output_type": "display_data"
    }
   ],
   "source": [
    "plt.scatter(dataset.day_of_week, dataset.bugs)"
   ]
  },
  {
   "cell_type": "markdown",
   "id": "artistic-palmer",
   "metadata": {},
   "source": [
    "День недели - категориальный признак. Заменим номера дней недели на число, равное среднему числу багов на коммит в данный день недели"
   ]
  },
  {
   "cell_type": "code",
   "execution_count": 23,
   "id": "static-liechtenstein",
   "metadata": {},
   "outputs": [
    {
     "data": {
      "text/html": [
       "<div>\n",
       "<style scoped>\n",
       "    .dataframe tbody tr th:only-of-type {\n",
       "        vertical-align: middle;\n",
       "    }\n",
       "\n",
       "    .dataframe tbody tr th {\n",
       "        vertical-align: top;\n",
       "    }\n",
       "\n",
       "    .dataframe thead th {\n",
       "        text-align: right;\n",
       "    }\n",
       "</style>\n",
       "<table border=\"1\" class=\"dataframe\">\n",
       "  <thead>\n",
       "    <tr style=\"text-align: right;\">\n",
       "      <th></th>\n",
       "      <th>repository_name</th>\n",
       "      <th>commit_hash</th>\n",
       "      <th>commit_date</th>\n",
       "      <th>commit_author</th>\n",
       "      <th>commit_message</th>\n",
       "      <th>bugs</th>\n",
       "      <th>mean_per_author</th>\n",
       "      <th>day_of_week</th>\n",
       "      <th>bugs_per_day</th>\n",
       "    </tr>\n",
       "  </thead>\n",
       "  <tbody>\n",
       "    <tr>\n",
       "      <th>0</th>\n",
       "      <td>mlm</td>\n",
       "      <td>b28abb42</td>\n",
       "      <td>2020-06-12 14:26:12</td>\n",
       "      <td>Victor</td>\n",
       "      <td>объяснения предсказаний с помощью lime</td>\n",
       "      <td>4</td>\n",
       "      <td>3.055556</td>\n",
       "      <td>4</td>\n",
       "      <td>2.573034</td>\n",
       "    </tr>\n",
       "    <tr>\n",
       "      <th>1</th>\n",
       "      <td>mlm</td>\n",
       "      <td>438b5c4d</td>\n",
       "      <td>2020-06-12 11:53:10</td>\n",
       "      <td>Victor</td>\n",
       "      <td>Поставил lime вместо eli5</td>\n",
       "      <td>3</td>\n",
       "      <td>3.055556</td>\n",
       "      <td>4</td>\n",
       "      <td>2.573034</td>\n",
       "    </tr>\n",
       "    <tr>\n",
       "      <th>2</th>\n",
       "      <td>mlm</td>\n",
       "      <td>8e6e4f31</td>\n",
       "      <td>2020-06-11 15:19:03</td>\n",
       "      <td>Victor</td>\n",
       "      <td>Скрипт для создния пакетов обновления</td>\n",
       "      <td>4</td>\n",
       "      <td>3.055556</td>\n",
       "      <td>3</td>\n",
       "      <td>2.750000</td>\n",
       "    </tr>\n",
       "    <tr>\n",
       "      <th>3</th>\n",
       "      <td>mlm</td>\n",
       "      <td>5e0956a6</td>\n",
       "      <td>2020-06-11 10:42:29</td>\n",
       "      <td>Victor</td>\n",
       "      <td>Сортировка весов по убыванию</td>\n",
       "      <td>3</td>\n",
       "      <td>3.055556</td>\n",
       "      <td>3</td>\n",
       "      <td>2.750000</td>\n",
       "    </tr>\n",
       "    <tr>\n",
       "      <th>4</th>\n",
       "      <td>mlm</td>\n",
       "      <td>b9f4b40c</td>\n",
       "      <td>2020-06-11 09:25:19</td>\n",
       "      <td>Victor</td>\n",
       "      <td>не надо конвертировать массив до операции по с...</td>\n",
       "      <td>7</td>\n",
       "      <td>3.055556</td>\n",
       "      <td>3</td>\n",
       "      <td>2.750000</td>\n",
       "    </tr>\n",
       "    <tr>\n",
       "      <th>...</th>\n",
       "      <td>...</td>\n",
       "      <td>...</td>\n",
       "      <td>...</td>\n",
       "      <td>...</td>\n",
       "      <td>...</td>\n",
       "      <td>...</td>\n",
       "      <td>...</td>\n",
       "      <td>...</td>\n",
       "      <td>...</td>\n",
       "    </tr>\n",
       "    <tr>\n",
       "      <th>314</th>\n",
       "      <td>sensor</td>\n",
       "      <td>5b1ecbcd</td>\n",
       "      <td>2020-03-23 12:54:35</td>\n",
       "      <td>Dabe</td>\n",
       "      <td>setting hostname</td>\n",
       "      <td>1</td>\n",
       "      <td>2.404762</td>\n",
       "      <td>0</td>\n",
       "      <td>2.951220</td>\n",
       "    </tr>\n",
       "    <tr>\n",
       "      <th>315</th>\n",
       "      <td>sensor</td>\n",
       "      <td>a3f5b753</td>\n",
       "      <td>2020-03-23 12:30:52</td>\n",
       "      <td>Dabe</td>\n",
       "      <td>heralding default dockerfile</td>\n",
       "      <td>2</td>\n",
       "      <td>2.404762</td>\n",
       "      <td>0</td>\n",
       "      <td>2.951220</td>\n",
       "    </tr>\n",
       "    <tr>\n",
       "      <th>316</th>\n",
       "      <td>sensor</td>\n",
       "      <td>e8155942</td>\n",
       "      <td>2020-03-23 11:27:40</td>\n",
       "      <td>Dabe</td>\n",
       "      <td>unnesserity /data path permissions setting</td>\n",
       "      <td>3</td>\n",
       "      <td>2.404762</td>\n",
       "      <td>0</td>\n",
       "      <td>2.951220</td>\n",
       "    </tr>\n",
       "    <tr>\n",
       "      <th>317</th>\n",
       "      <td>sensor</td>\n",
       "      <td>e748af51</td>\n",
       "      <td>2020-03-23 11:20:50</td>\n",
       "      <td>Dabe</td>\n",
       "      <td>added trapconductor</td>\n",
       "      <td>1</td>\n",
       "      <td>2.404762</td>\n",
       "      <td>0</td>\n",
       "      <td>2.951220</td>\n",
       "    </tr>\n",
       "    <tr>\n",
       "      <th>318</th>\n",
       "      <td>sensor</td>\n",
       "      <td>a4574093</td>\n",
       "      <td>2020-03-23 11:07:07</td>\n",
       "      <td>Dabe</td>\n",
       "      <td>sensor</td>\n",
       "      <td>1</td>\n",
       "      <td>2.404762</td>\n",
       "      <td>0</td>\n",
       "      <td>2.951220</td>\n",
       "    </tr>\n",
       "  </tbody>\n",
       "</table>\n",
       "<p>310 rows × 9 columns</p>\n",
       "</div>"
      ],
      "text/plain": [
       "    repository_name commit_hash         commit_date commit_author  \\\n",
       "0               mlm    b28abb42 2020-06-12 14:26:12        Victor   \n",
       "1               mlm    438b5c4d 2020-06-12 11:53:10        Victor   \n",
       "2               mlm    8e6e4f31 2020-06-11 15:19:03        Victor   \n",
       "3               mlm    5e0956a6 2020-06-11 10:42:29        Victor   \n",
       "4               mlm    b9f4b40c 2020-06-11 09:25:19        Victor   \n",
       "..              ...         ...                 ...           ...   \n",
       "314          sensor    5b1ecbcd 2020-03-23 12:54:35          Dabe   \n",
       "315          sensor    a3f5b753 2020-03-23 12:30:52          Dabe   \n",
       "316          sensor    e8155942 2020-03-23 11:27:40          Dabe   \n",
       "317          sensor    e748af51 2020-03-23 11:20:50          Dabe   \n",
       "318          sensor    a4574093 2020-03-23 11:07:07          Dabe   \n",
       "\n",
       "                                        commit_message  bugs  mean_per_author  \\\n",
       "0               объяснения предсказаний с помощью lime     4         3.055556   \n",
       "1                            Поставил lime вместо eli5     3         3.055556   \n",
       "2                Скрипт для создния пакетов обновления     4         3.055556   \n",
       "3                         Сортировка весов по убыванию     3         3.055556   \n",
       "4    не надо конвертировать массив до операции по с...     7         3.055556   \n",
       "..                                                 ...   ...              ...   \n",
       "314                                   setting hostname     1         2.404762   \n",
       "315                       heralding default dockerfile     2         2.404762   \n",
       "316         unnesserity /data path permissions setting     3         2.404762   \n",
       "317                                added trapconductor     1         2.404762   \n",
       "318                                             sensor     1         2.404762   \n",
       "\n",
       "     day_of_week  bugs_per_day  \n",
       "0              4      2.573034  \n",
       "1              4      2.573034  \n",
       "2              3      2.750000  \n",
       "3              3      2.750000  \n",
       "4              3      2.750000  \n",
       "..           ...           ...  \n",
       "314            0      2.951220  \n",
       "315            0      2.951220  \n",
       "316            0      2.951220  \n",
       "317            0      2.951220  \n",
       "318            0      2.951220  \n",
       "\n",
       "[310 rows x 9 columns]"
      ]
     },
     "execution_count": 23,
     "metadata": {},
     "output_type": "execute_result"
    }
   ],
   "source": [
    "day_means = dataset.groupby(dataset.day_of_week)['bugs'].mean()\n",
    "dataset['bugs_per_day'] = dataset.day_of_week.map(day_means)\n",
    "dataset"
   ]
  },
  {
   "cell_type": "code",
   "execution_count": 24,
   "id": "contemporary-dylan",
   "metadata": {},
   "outputs": [
    {
     "data": {
      "text/html": [
       "<div>\n",
       "<style scoped>\n",
       "    .dataframe tbody tr th:only-of-type {\n",
       "        vertical-align: middle;\n",
       "    }\n",
       "\n",
       "    .dataframe tbody tr th {\n",
       "        vertical-align: top;\n",
       "    }\n",
       "\n",
       "    .dataframe thead th {\n",
       "        text-align: right;\n",
       "    }\n",
       "</style>\n",
       "<table border=\"1\" class=\"dataframe\">\n",
       "  <thead>\n",
       "    <tr style=\"text-align: right;\">\n",
       "      <th></th>\n",
       "      <th>bugs</th>\n",
       "      <th>mean_per_author</th>\n",
       "      <th>day_of_week</th>\n",
       "      <th>bugs_per_day</th>\n",
       "    </tr>\n",
       "  </thead>\n",
       "  <tbody>\n",
       "    <tr>\n",
       "      <th>bugs</th>\n",
       "      <td>1.000000</td>\n",
       "      <td>0.309698</td>\n",
       "      <td>-0.025950</td>\n",
       "      <td>0.146793</td>\n",
       "    </tr>\n",
       "    <tr>\n",
       "      <th>mean_per_author</th>\n",
       "      <td>0.309698</td>\n",
       "      <td>1.000000</td>\n",
       "      <td>-0.102407</td>\n",
       "      <td>0.093127</td>\n",
       "    </tr>\n",
       "    <tr>\n",
       "      <th>day_of_week</th>\n",
       "      <td>-0.025950</td>\n",
       "      <td>-0.102407</td>\n",
       "      <td>1.000000</td>\n",
       "      <td>-0.176782</td>\n",
       "    </tr>\n",
       "    <tr>\n",
       "      <th>bugs_per_day</th>\n",
       "      <td>0.146793</td>\n",
       "      <td>0.093127</td>\n",
       "      <td>-0.176782</td>\n",
       "      <td>1.000000</td>\n",
       "    </tr>\n",
       "  </tbody>\n",
       "</table>\n",
       "</div>"
      ],
      "text/plain": [
       "                     bugs  mean_per_author  day_of_week  bugs_per_day\n",
       "bugs             1.000000         0.309698    -0.025950      0.146793\n",
       "mean_per_author  0.309698         1.000000    -0.102407      0.093127\n",
       "day_of_week     -0.025950        -0.102407     1.000000     -0.176782\n",
       "bugs_per_day     0.146793         0.093127    -0.176782      1.000000"
      ]
     },
     "execution_count": 24,
     "metadata": {},
     "output_type": "execute_result"
    }
   ],
   "source": [
    "dataset.corr()"
   ]
  },
  {
   "cell_type": "markdown",
   "id": "immediate-favorite",
   "metadata": {},
   "source": [
    "Для работы с временем будем использовать функцию sin(x) в радианах, так как 23:59 и 0:00 - по сути одно и то же время.\n",
    "Кроме того, исходить будем из того, что нет необходимости учета секунд, учитывать будем только минуты"
   ]
  },
  {
   "cell_type": "code",
   "execution_count": 25,
   "id": "partial-toner",
   "metadata": {},
   "outputs": [],
   "source": [
    "total_min = 24 * 60"
   ]
  },
  {
   "cell_type": "code",
   "execution_count": 26,
   "id": "continuing-empty",
   "metadata": {},
   "outputs": [
    {
     "data": {
      "text/html": [
       "<div>\n",
       "<style scoped>\n",
       "    .dataframe tbody tr th:only-of-type {\n",
       "        vertical-align: middle;\n",
       "    }\n",
       "\n",
       "    .dataframe tbody tr th {\n",
       "        vertical-align: top;\n",
       "    }\n",
       "\n",
       "    .dataframe thead th {\n",
       "        text-align: right;\n",
       "    }\n",
       "</style>\n",
       "<table border=\"1\" class=\"dataframe\">\n",
       "  <thead>\n",
       "    <tr style=\"text-align: right;\">\n",
       "      <th></th>\n",
       "      <th>repository_name</th>\n",
       "      <th>commit_hash</th>\n",
       "      <th>commit_date</th>\n",
       "      <th>commit_author</th>\n",
       "      <th>commit_message</th>\n",
       "      <th>bugs</th>\n",
       "      <th>mean_per_author</th>\n",
       "      <th>day_of_week</th>\n",
       "      <th>bugs_per_day</th>\n",
       "      <th>sin_time</th>\n",
       "    </tr>\n",
       "  </thead>\n",
       "  <tbody>\n",
       "    <tr>\n",
       "      <th>0</th>\n",
       "      <td>mlm</td>\n",
       "      <td>b28abb42</td>\n",
       "      <td>2020-06-12 14:26:12</td>\n",
       "      <td>Victor</td>\n",
       "      <td>объяснения предсказаний с помощью lime</td>\n",
       "      <td>4</td>\n",
       "      <td>3.055556</td>\n",
       "      <td>4</td>\n",
       "      <td>2.573034</td>\n",
       "      <td>-0.594823</td>\n",
       "    </tr>\n",
       "    <tr>\n",
       "      <th>1</th>\n",
       "      <td>mlm</td>\n",
       "      <td>438b5c4d</td>\n",
       "      <td>2020-06-12 11:53:10</td>\n",
       "      <td>Victor</td>\n",
       "      <td>Поставил lime вместо eli5</td>\n",
       "      <td>3</td>\n",
       "      <td>3.055556</td>\n",
       "      <td>4</td>\n",
       "      <td>2.573034</td>\n",
       "      <td>0.030539</td>\n",
       "    </tr>\n",
       "    <tr>\n",
       "      <th>2</th>\n",
       "      <td>mlm</td>\n",
       "      <td>8e6e4f31</td>\n",
       "      <td>2020-06-11 15:19:03</td>\n",
       "      <td>Victor</td>\n",
       "      <td>Скрипт для создния пакетов обновления</td>\n",
       "      <td>4</td>\n",
       "      <td>3.055556</td>\n",
       "      <td>3</td>\n",
       "      <td>2.750000</td>\n",
       "      <td>-0.763232</td>\n",
       "    </tr>\n",
       "    <tr>\n",
       "      <th>3</th>\n",
       "      <td>mlm</td>\n",
       "      <td>5e0956a6</td>\n",
       "      <td>2020-06-11 10:42:29</td>\n",
       "      <td>Victor</td>\n",
       "      <td>Сортировка весов по убыванию</td>\n",
       "      <td>3</td>\n",
       "      <td>3.055556</td>\n",
       "      <td>3</td>\n",
       "      <td>2.750000</td>\n",
       "      <td>0.333807</td>\n",
       "    </tr>\n",
       "    <tr>\n",
       "      <th>4</th>\n",
       "      <td>mlm</td>\n",
       "      <td>b9f4b40c</td>\n",
       "      <td>2020-06-11 09:25:19</td>\n",
       "      <td>Victor</td>\n",
       "      <td>не надо конвертировать массив до операции по с...</td>\n",
       "      <td>7</td>\n",
       "      <td>3.055556</td>\n",
       "      <td>3</td>\n",
       "      <td>2.750000</td>\n",
       "      <td>0.625923</td>\n",
       "    </tr>\n",
       "    <tr>\n",
       "      <th>...</th>\n",
       "      <td>...</td>\n",
       "      <td>...</td>\n",
       "      <td>...</td>\n",
       "      <td>...</td>\n",
       "      <td>...</td>\n",
       "      <td>...</td>\n",
       "      <td>...</td>\n",
       "      <td>...</td>\n",
       "      <td>...</td>\n",
       "      <td>...</td>\n",
       "    </tr>\n",
       "    <tr>\n",
       "      <th>314</th>\n",
       "      <td>sensor</td>\n",
       "      <td>5b1ecbcd</td>\n",
       "      <td>2020-03-23 12:54:35</td>\n",
       "      <td>Dabe</td>\n",
       "      <td>setting hostname</td>\n",
       "      <td>1</td>\n",
       "      <td>2.404762</td>\n",
       "      <td>0</td>\n",
       "      <td>2.951220</td>\n",
       "      <td>-0.233445</td>\n",
       "    </tr>\n",
       "    <tr>\n",
       "      <th>315</th>\n",
       "      <td>sensor</td>\n",
       "      <td>a3f5b753</td>\n",
       "      <td>2020-03-23 12:30:52</td>\n",
       "      <td>Dabe</td>\n",
       "      <td>heralding default dockerfile</td>\n",
       "      <td>2</td>\n",
       "      <td>2.404762</td>\n",
       "      <td>0</td>\n",
       "      <td>2.951220</td>\n",
       "      <td>-0.130526</td>\n",
       "    </tr>\n",
       "    <tr>\n",
       "      <th>316</th>\n",
       "      <td>sensor</td>\n",
       "      <td>e8155942</td>\n",
       "      <td>2020-03-23 11:27:40</td>\n",
       "      <td>Dabe</td>\n",
       "      <td>unnesserity /data path permissions setting</td>\n",
       "      <td>3</td>\n",
       "      <td>2.404762</td>\n",
       "      <td>0</td>\n",
       "      <td>2.951220</td>\n",
       "      <td>0.143493</td>\n",
       "    </tr>\n",
       "    <tr>\n",
       "      <th>317</th>\n",
       "      <td>sensor</td>\n",
       "      <td>e748af51</td>\n",
       "      <td>2020-03-23 11:20:50</td>\n",
       "      <td>Dabe</td>\n",
       "      <td>added trapconductor</td>\n",
       "      <td>1</td>\n",
       "      <td>2.404762</td>\n",
       "      <td>0</td>\n",
       "      <td>2.951220</td>\n",
       "      <td>0.173648</td>\n",
       "    </tr>\n",
       "    <tr>\n",
       "      <th>318</th>\n",
       "      <td>sensor</td>\n",
       "      <td>a4574093</td>\n",
       "      <td>2020-03-23 11:07:07</td>\n",
       "      <td>Dabe</td>\n",
       "      <td>sensor</td>\n",
       "      <td>1</td>\n",
       "      <td>2.404762</td>\n",
       "      <td>0</td>\n",
       "      <td>2.951220</td>\n",
       "      <td>0.229200</td>\n",
       "    </tr>\n",
       "  </tbody>\n",
       "</table>\n",
       "<p>310 rows × 10 columns</p>\n",
       "</div>"
      ],
      "text/plain": [
       "    repository_name commit_hash         commit_date commit_author  \\\n",
       "0               mlm    b28abb42 2020-06-12 14:26:12        Victor   \n",
       "1               mlm    438b5c4d 2020-06-12 11:53:10        Victor   \n",
       "2               mlm    8e6e4f31 2020-06-11 15:19:03        Victor   \n",
       "3               mlm    5e0956a6 2020-06-11 10:42:29        Victor   \n",
       "4               mlm    b9f4b40c 2020-06-11 09:25:19        Victor   \n",
       "..              ...         ...                 ...           ...   \n",
       "314          sensor    5b1ecbcd 2020-03-23 12:54:35          Dabe   \n",
       "315          sensor    a3f5b753 2020-03-23 12:30:52          Dabe   \n",
       "316          sensor    e8155942 2020-03-23 11:27:40          Dabe   \n",
       "317          sensor    e748af51 2020-03-23 11:20:50          Dabe   \n",
       "318          sensor    a4574093 2020-03-23 11:07:07          Dabe   \n",
       "\n",
       "                                        commit_message  bugs  mean_per_author  \\\n",
       "0               объяснения предсказаний с помощью lime     4         3.055556   \n",
       "1                            Поставил lime вместо eli5     3         3.055556   \n",
       "2                Скрипт для создния пакетов обновления     4         3.055556   \n",
       "3                         Сортировка весов по убыванию     3         3.055556   \n",
       "4    не надо конвертировать массив до операции по с...     7         3.055556   \n",
       "..                                                 ...   ...              ...   \n",
       "314                                   setting hostname     1         2.404762   \n",
       "315                       heralding default dockerfile     2         2.404762   \n",
       "316         unnesserity /data path permissions setting     3         2.404762   \n",
       "317                                added trapconductor     1         2.404762   \n",
       "318                                             sensor     1         2.404762   \n",
       "\n",
       "     day_of_week  bugs_per_day  sin_time  \n",
       "0              4      2.573034 -0.594823  \n",
       "1              4      2.573034  0.030539  \n",
       "2              3      2.750000 -0.763232  \n",
       "3              3      2.750000  0.333807  \n",
       "4              3      2.750000  0.625923  \n",
       "..           ...           ...       ...  \n",
       "314            0      2.951220 -0.233445  \n",
       "315            0      2.951220 -0.130526  \n",
       "316            0      2.951220  0.143493  \n",
       "317            0      2.951220  0.173648  \n",
       "318            0      2.951220  0.229200  \n",
       "\n",
       "[310 rows x 10 columns]"
      ]
     },
     "execution_count": 26,
     "metadata": {},
     "output_type": "execute_result"
    }
   ],
   "source": [
    "dataset['sin_time'] = np.sin(\n",
    "    2 * np.pi *\n",
    "    (dataset.commit_date.dt.hour * 60 + dataset.commit_date.dt.minute) /\n",
    "    total_min)\n",
    "dataset"
   ]
  },
  {
   "cell_type": "code",
   "execution_count": 27,
   "id": "lasting-enemy",
   "metadata": {},
   "outputs": [
    {
     "data": {
      "text/plain": [
       "<matplotlib.collections.PathCollection at 0x26e74e410b8>"
      ]
     },
     "execution_count": 27,
     "metadata": {},
     "output_type": "execute_result"
    },
    {
     "data": {
      "image/png": "[encoded data removed]",
      "text/plain": [
       "<Figure size 432x288 with 1 Axes>"
      ]
     },
     "metadata": {
      "needs_background": "light"
     },
     "output_type": "display_data"
    }
   ],
   "source": [
    "plt.scatter(dataset.sin_time, dataset.bugs)"
   ]
  },
  {
   "cell_type": "code",
   "execution_count": 28,
   "id": "portuguese-rachel",
   "metadata": {},
   "outputs": [
    {
     "data": {
      "text/html": [
       "<div>\n",
       "<style scoped>\n",
       "    .dataframe tbody tr th:only-of-type {\n",
       "        vertical-align: middle;\n",
       "    }\n",
       "\n",
       "    .dataframe tbody tr th {\n",
       "        vertical-align: top;\n",
       "    }\n",
       "\n",
       "    .dataframe thead th {\n",
       "        text-align: right;\n",
       "    }\n",
       "</style>\n",
       "<table border=\"1\" class=\"dataframe\">\n",
       "  <thead>\n",
       "    <tr style=\"text-align: right;\">\n",
       "      <th></th>\n",
       "      <th>bugs</th>\n",
       "      <th>mean_per_author</th>\n",
       "      <th>day_of_week</th>\n",
       "      <th>bugs_per_day</th>\n",
       "      <th>sin_time</th>\n",
       "    </tr>\n",
       "  </thead>\n",
       "  <tbody>\n",
       "    <tr>\n",
       "      <th>bugs</th>\n",
       "      <td>1.000000</td>\n",
       "      <td>0.309698</td>\n",
       "      <td>-0.025950</td>\n",
       "      <td>0.146793</td>\n",
       "      <td>0.002420</td>\n",
       "    </tr>\n",
       "    <tr>\n",
       "      <th>mean_per_author</th>\n",
       "      <td>0.309698</td>\n",
       "      <td>1.000000</td>\n",
       "      <td>-0.102407</td>\n",
       "      <td>0.093127</td>\n",
       "      <td>-0.030599</td>\n",
       "    </tr>\n",
       "    <tr>\n",
       "      <th>day_of_week</th>\n",
       "      <td>-0.025950</td>\n",
       "      <td>-0.102407</td>\n",
       "      <td>1.000000</td>\n",
       "      <td>-0.176782</td>\n",
       "      <td>0.048797</td>\n",
       "    </tr>\n",
       "    <tr>\n",
       "      <th>bugs_per_day</th>\n",
       "      <td>0.146793</td>\n",
       "      <td>0.093127</td>\n",
       "      <td>-0.176782</td>\n",
       "      <td>1.000000</td>\n",
       "      <td>-0.082703</td>\n",
       "    </tr>\n",
       "    <tr>\n",
       "      <th>sin_time</th>\n",
       "      <td>0.002420</td>\n",
       "      <td>-0.030599</td>\n",
       "      <td>0.048797</td>\n",
       "      <td>-0.082703</td>\n",
       "      <td>1.000000</td>\n",
       "    </tr>\n",
       "  </tbody>\n",
       "</table>\n",
       "</div>"
      ],
      "text/plain": [
       "                     bugs  mean_per_author  day_of_week  bugs_per_day  \\\n",
       "bugs             1.000000         0.309698    -0.025950      0.146793   \n",
       "mean_per_author  0.309698         1.000000    -0.102407      0.093127   \n",
       "day_of_week     -0.025950        -0.102407     1.000000     -0.176782   \n",
       "bugs_per_day     0.146793         0.093127    -0.176782      1.000000   \n",
       "sin_time         0.002420        -0.030599     0.048797     -0.082703   \n",
       "\n",
       "                 sin_time  \n",
       "bugs             0.002420  \n",
       "mean_per_author -0.030599  \n",
       "day_of_week      0.048797  \n",
       "bugs_per_day    -0.082703  \n",
       "sin_time         1.000000  "
      ]
     },
     "execution_count": 28,
     "metadata": {},
     "output_type": "execute_result"
    }
   ],
   "source": [
    "dataset.corr()"
   ]
  },
  {
   "cell_type": "code",
   "execution_count": 29,
   "id": "false-dealer",
   "metadata": {
    "scrolled": true
   },
   "outputs": [
    {
     "data": {
      "text/plain": [
       "<matplotlib.collections.PathCollection at 0x26e74eab940>"
      ]
     },
     "execution_count": 29,
     "metadata": {},
     "output_type": "execute_result"
    },
    {
     "data": {
      "image/png": "[encoded data removed]",
      "text/plain": [
       "<Figure size 432x288 with 1 Axes>"
      ]
     },
     "metadata": {
      "needs_background": "light"
     },
     "output_type": "display_data"
    }
   ],
   "source": [
    "plt.scatter(dataset.commit_date, dataset.bugs)"
   ]
  },
  {
   "cell_type": "markdown",
   "id": "applied-lesson",
   "metadata": {},
   "source": [
    "Можно заключить, что, вопреки ожиданиям, зависимость от времени незначительна"
   ]
  },
  {
   "cell_type": "markdown",
   "id": "annual-torture",
   "metadata": {},
   "source": [
    "## Гипотеза 4. Имя репозитория"
   ]
  },
  {
   "cell_type": "code",
   "execution_count": 30,
   "id": "packed-strain",
   "metadata": {},
   "outputs": [
    {
     "name": "stdout",
     "output_type": "stream",
     "text": [
      "repository_name\n",
      "agent        2.928571\n",
      "conductor    2.864865\n",
      "dockers      2.526316\n",
      "mlm          4.114286\n",
      "sensor       2.284314\n",
      "standard     2.931034\n",
      "Name: bugs, dtype: float64\n"
     ]
    },
    {
     "data": {
      "text/html": [
       "<div>\n",
       "<style scoped>\n",
       "    .dataframe tbody tr th:only-of-type {\n",
       "        vertical-align: middle;\n",
       "    }\n",
       "\n",
       "    .dataframe tbody tr th {\n",
       "        vertical-align: top;\n",
       "    }\n",
       "\n",
       "    .dataframe thead th {\n",
       "        text-align: right;\n",
       "    }\n",
       "</style>\n",
       "<table border=\"1\" class=\"dataframe\">\n",
       "  <thead>\n",
       "    <tr style=\"text-align: right;\">\n",
       "      <th></th>\n",
       "      <th>repository_name</th>\n",
       "      <th>commit_hash</th>\n",
       "      <th>commit_date</th>\n",
       "      <th>commit_author</th>\n",
       "      <th>commit_message</th>\n",
       "      <th>bugs</th>\n",
       "      <th>mean_per_author</th>\n",
       "      <th>day_of_week</th>\n",
       "      <th>bugs_per_day</th>\n",
       "      <th>sin_time</th>\n",
       "      <th>bugs_per_rep</th>\n",
       "    </tr>\n",
       "  </thead>\n",
       "  <tbody>\n",
       "    <tr>\n",
       "      <th>0</th>\n",
       "      <td>mlm</td>\n",
       "      <td>b28abb42</td>\n",
       "      <td>2020-06-12 14:26:12</td>\n",
       "      <td>Victor</td>\n",
       "      <td>объяснения предсказаний с помощью lime</td>\n",
       "      <td>4</td>\n",
       "      <td>3.055556</td>\n",
       "      <td>4</td>\n",
       "      <td>2.573034</td>\n",
       "      <td>-0.594823</td>\n",
       "      <td>4.114286</td>\n",
       "    </tr>\n",
       "    <tr>\n",
       "      <th>1</th>\n",
       "      <td>mlm</td>\n",
       "      <td>438b5c4d</td>\n",
       "      <td>2020-06-12 11:53:10</td>\n",
       "      <td>Victor</td>\n",
       "      <td>Поставил lime вместо eli5</td>\n",
       "      <td>3</td>\n",
       "      <td>3.055556</td>\n",
       "      <td>4</td>\n",
       "      <td>2.573034</td>\n",
       "      <td>0.030539</td>\n",
       "      <td>4.114286</td>\n",
       "    </tr>\n",
       "    <tr>\n",
       "      <th>2</th>\n",
       "      <td>mlm</td>\n",
       "      <td>8e6e4f31</td>\n",
       "      <td>2020-06-11 15:19:03</td>\n",
       "      <td>Victor</td>\n",
       "      <td>Скрипт для создния пакетов обновления</td>\n",
       "      <td>4</td>\n",
       "      <td>3.055556</td>\n",
       "      <td>3</td>\n",
       "      <td>2.750000</td>\n",
       "      <td>-0.763232</td>\n",
       "      <td>4.114286</td>\n",
       "    </tr>\n",
       "    <tr>\n",
       "      <th>3</th>\n",
       "      <td>mlm</td>\n",
       "      <td>5e0956a6</td>\n",
       "      <td>2020-06-11 10:42:29</td>\n",
       "      <td>Victor</td>\n",
       "      <td>Сортировка весов по убыванию</td>\n",
       "      <td>3</td>\n",
       "      <td>3.055556</td>\n",
       "      <td>3</td>\n",
       "      <td>2.750000</td>\n",
       "      <td>0.333807</td>\n",
       "      <td>4.114286</td>\n",
       "    </tr>\n",
       "    <tr>\n",
       "      <th>4</th>\n",
       "      <td>mlm</td>\n",
       "      <td>b9f4b40c</td>\n",
       "      <td>2020-06-11 09:25:19</td>\n",
       "      <td>Victor</td>\n",
       "      <td>не надо конвертировать массив до операции по с...</td>\n",
       "      <td>7</td>\n",
       "      <td>3.055556</td>\n",
       "      <td>3</td>\n",
       "      <td>2.750000</td>\n",
       "      <td>0.625923</td>\n",
       "      <td>4.114286</td>\n",
       "    </tr>\n",
       "    <tr>\n",
       "      <th>...</th>\n",
       "      <td>...</td>\n",
       "      <td>...</td>\n",
       "      <td>...</td>\n",
       "      <td>...</td>\n",
       "      <td>...</td>\n",
       "      <td>...</td>\n",
       "      <td>...</td>\n",
       "      <td>...</td>\n",
       "      <td>...</td>\n",
       "      <td>...</td>\n",
       "      <td>...</td>\n",
       "    </tr>\n",
       "    <tr>\n",
       "      <th>314</th>\n",
       "      <td>sensor</td>\n",
       "      <td>5b1ecbcd</td>\n",
       "      <td>2020-03-23 12:54:35</td>\n",
       "      <td>Dabe</td>\n",
       "      <td>setting hostname</td>\n",
       "      <td>1</td>\n",
       "      <td>2.404762</td>\n",
       "      <td>0</td>\n",
       "      <td>2.951220</td>\n",
       "      <td>-0.233445</td>\n",
       "      <td>2.284314</td>\n",
       "    </tr>\n",
       "    <tr>\n",
       "      <th>315</th>\n",
       "      <td>sensor</td>\n",
       "      <td>a3f5b753</td>\n",
       "      <td>2020-03-23 12:30:52</td>\n",
       "      <td>Dabe</td>\n",
       "      <td>heralding default dockerfile</td>\n",
       "      <td>2</td>\n",
       "      <td>2.404762</td>\n",
       "      <td>0</td>\n",
       "      <td>2.951220</td>\n",
       "      <td>-0.130526</td>\n",
       "      <td>2.284314</td>\n",
       "    </tr>\n",
       "    <tr>\n",
       "      <th>316</th>\n",
       "      <td>sensor</td>\n",
       "      <td>e8155942</td>\n",
       "      <td>2020-03-23 11:27:40</td>\n",
       "      <td>Dabe</td>\n",
       "      <td>unnesserity /data path permissions setting</td>\n",
       "      <td>3</td>\n",
       "      <td>2.404762</td>\n",
       "      <td>0</td>\n",
       "      <td>2.951220</td>\n",
       "      <td>0.143493</td>\n",
       "      <td>2.284314</td>\n",
       "    </tr>\n",
       "    <tr>\n",
       "      <th>317</th>\n",
       "      <td>sensor</td>\n",
       "      <td>e748af51</td>\n",
       "      <td>2020-03-23 11:20:50</td>\n",
       "      <td>Dabe</td>\n",
       "      <td>added trapconductor</td>\n",
       "      <td>1</td>\n",
       "      <td>2.404762</td>\n",
       "      <td>0</td>\n",
       "      <td>2.951220</td>\n",
       "      <td>0.173648</td>\n",
       "      <td>2.284314</td>\n",
       "    </tr>\n",
       "    <tr>\n",
       "      <th>318</th>\n",
       "      <td>sensor</td>\n",
       "      <td>a4574093</td>\n",
       "      <td>2020-03-23 11:07:07</td>\n",
       "      <td>Dabe</td>\n",
       "      <td>sensor</td>\n",
       "      <td>1</td>\n",
       "      <td>2.404762</td>\n",
       "      <td>0</td>\n",
       "      <td>2.951220</td>\n",
       "      <td>0.229200</td>\n",
       "      <td>2.284314</td>\n",
       "    </tr>\n",
       "  </tbody>\n",
       "</table>\n",
       "<p>310 rows × 11 columns</p>\n",
       "</div>"
      ],
      "text/plain": [
       "    repository_name commit_hash         commit_date commit_author  \\\n",
       "0               mlm    b28abb42 2020-06-12 14:26:12        Victor   \n",
       "1               mlm    438b5c4d 2020-06-12 11:53:10        Victor   \n",
       "2               mlm    8e6e4f31 2020-06-11 15:19:03        Victor   \n",
       "3               mlm    5e0956a6 2020-06-11 10:42:29        Victor   \n",
       "4               mlm    b9f4b40c 2020-06-11 09:25:19        Victor   \n",
       "..              ...         ...                 ...           ...   \n",
       "314          sensor    5b1ecbcd 2020-03-23 12:54:35          Dabe   \n",
       "315          sensor    a3f5b753 2020-03-23 12:30:52          Dabe   \n",
       "316          sensor    e8155942 2020-03-23 11:27:40          Dabe   \n",
       "317          sensor    e748af51 2020-03-23 11:20:50          Dabe   \n",
       "318          sensor    a4574093 2020-03-23 11:07:07          Dabe   \n",
       "\n",
       "                                        commit_message  bugs  mean_per_author  \\\n",
       "0               объяснения предсказаний с помощью lime     4         3.055556   \n",
       "1                            Поставил lime вместо eli5     3         3.055556   \n",
       "2                Скрипт для создния пакетов обновления     4         3.055556   \n",
       "3                         Сортировка весов по убыванию     3         3.055556   \n",
       "4    не надо конвертировать массив до операции по с...     7         3.055556   \n",
       "..                                                 ...   ...              ...   \n",
       "314                                   setting hostname     1         2.404762   \n",
       "315                       heralding default dockerfile     2         2.404762   \n",
       "316         unnesserity /data path permissions setting     3         2.404762   \n",
       "317                                added trapconductor     1         2.404762   \n",
       "318                                             sensor     1         2.404762   \n",
       "\n",
       "     day_of_week  bugs_per_day  sin_time  bugs_per_rep  \n",
       "0              4      2.573034 -0.594823      4.114286  \n",
       "1              4      2.573034  0.030539      4.114286  \n",
       "2              3      2.750000 -0.763232      4.114286  \n",
       "3              3      2.750000  0.333807      4.114286  \n",
       "4              3      2.750000  0.625923      4.114286  \n",
       "..           ...           ...       ...           ...  \n",
       "314            0      2.951220 -0.233445      2.284314  \n",
       "315            0      2.951220 -0.130526      2.284314  \n",
       "316            0      2.951220  0.143493      2.284314  \n",
       "317            0      2.951220  0.173648      2.284314  \n",
       "318            0      2.951220  0.229200      2.284314  \n",
       "\n",
       "[310 rows x 11 columns]"
      ]
     },
     "execution_count": 30,
     "metadata": {},
     "output_type": "execute_result"
    }
   ],
   "source": [
    "rep_means = dataset.groupby(dataset.repository_name)['bugs'].mean()\n",
    "print(rep_means)\n",
    "dataset['bugs_per_rep'] = dataset.repository_name.map(rep_means)\n",
    "dataset"
   ]
  },
  {
   "cell_type": "code",
   "execution_count": 31,
   "id": "provincial-encounter",
   "metadata": {},
   "outputs": [
    {
     "data": {
      "text/plain": [
       "<matplotlib.collections.PathCollection at 0x26e74f36c18>"
      ]
     },
     "execution_count": 31,
     "metadata": {},
     "output_type": "execute_result"
    },
    {
     "data": {
      "image/png": "[encoded data removed]",
      "text/plain": [
       "<Figure size 432x288 with 1 Axes>"
      ]
     },
     "metadata": {
      "needs_background": "light"
     },
     "output_type": "display_data"
    }
   ],
   "source": [
    "plt.scatter(dataset.bugs_per_rep, dataset.bugs)"
   ]
  },
  {
   "cell_type": "code",
   "execution_count": 32,
   "id": "female-empire",
   "metadata": {},
   "outputs": [
    {
     "data": {
      "text/html": [
       "<div>\n",
       "<style scoped>\n",
       "    .dataframe tbody tr th:only-of-type {\n",
       "        vertical-align: middle;\n",
       "    }\n",
       "\n",
       "    .dataframe tbody tr th {\n",
       "        vertical-align: top;\n",
       "    }\n",
       "\n",
       "    .dataframe thead th {\n",
       "        text-align: right;\n",
       "    }\n",
       "</style>\n",
       "<table border=\"1\" class=\"dataframe\">\n",
       "  <thead>\n",
       "    <tr style=\"text-align: right;\">\n",
       "      <th></th>\n",
       "      <th>bugs</th>\n",
       "      <th>mean_per_author</th>\n",
       "      <th>day_of_week</th>\n",
       "      <th>bugs_per_day</th>\n",
       "      <th>sin_time</th>\n",
       "      <th>bugs_per_rep</th>\n",
       "    </tr>\n",
       "  </thead>\n",
       "  <tbody>\n",
       "    <tr>\n",
       "      <th>bugs</th>\n",
       "      <td>1.000000</td>\n",
       "      <td>0.309698</td>\n",
       "      <td>-0.025950</td>\n",
       "      <td>0.146793</td>\n",
       "      <td>0.002420</td>\n",
       "      <td>0.369403</td>\n",
       "    </tr>\n",
       "    <tr>\n",
       "      <th>mean_per_author</th>\n",
       "      <td>0.309698</td>\n",
       "      <td>1.000000</td>\n",
       "      <td>-0.102407</td>\n",
       "      <td>0.093127</td>\n",
       "      <td>-0.030599</td>\n",
       "      <td>0.114783</td>\n",
       "    </tr>\n",
       "    <tr>\n",
       "      <th>day_of_week</th>\n",
       "      <td>-0.025950</td>\n",
       "      <td>-0.102407</td>\n",
       "      <td>1.000000</td>\n",
       "      <td>-0.176782</td>\n",
       "      <td>0.048797</td>\n",
       "      <td>0.050637</td>\n",
       "    </tr>\n",
       "    <tr>\n",
       "      <th>bugs_per_day</th>\n",
       "      <td>0.146793</td>\n",
       "      <td>0.093127</td>\n",
       "      <td>-0.176782</td>\n",
       "      <td>1.000000</td>\n",
       "      <td>-0.082703</td>\n",
       "      <td>0.169394</td>\n",
       "    </tr>\n",
       "    <tr>\n",
       "      <th>sin_time</th>\n",
       "      <td>0.002420</td>\n",
       "      <td>-0.030599</td>\n",
       "      <td>0.048797</td>\n",
       "      <td>-0.082703</td>\n",
       "      <td>1.000000</td>\n",
       "      <td>-0.118043</td>\n",
       "    </tr>\n",
       "    <tr>\n",
       "      <th>bugs_per_rep</th>\n",
       "      <td>0.369403</td>\n",
       "      <td>0.114783</td>\n",
       "      <td>0.050637</td>\n",
       "      <td>0.169394</td>\n",
       "      <td>-0.118043</td>\n",
       "      <td>1.000000</td>\n",
       "    </tr>\n",
       "  </tbody>\n",
       "</table>\n",
       "</div>"
      ],
      "text/plain": [
       "                     bugs  mean_per_author  day_of_week  bugs_per_day  \\\n",
       "bugs             1.000000         0.309698    -0.025950      0.146793   \n",
       "mean_per_author  0.309698         1.000000    -0.102407      0.093127   \n",
       "day_of_week     -0.025950        -0.102407     1.000000     -0.176782   \n",
       "bugs_per_day     0.146793         0.093127    -0.176782      1.000000   \n",
       "sin_time         0.002420        -0.030599     0.048797     -0.082703   \n",
       "bugs_per_rep     0.369403         0.114783     0.050637      0.169394   \n",
       "\n",
       "                 sin_time  bugs_per_rep  \n",
       "bugs             0.002420      0.369403  \n",
       "mean_per_author -0.030599      0.114783  \n",
       "day_of_week      0.048797      0.050637  \n",
       "bugs_per_day    -0.082703      0.169394  \n",
       "sin_time         1.000000     -0.118043  \n",
       "bugs_per_rep    -0.118043      1.000000  "
      ]
     },
     "execution_count": 32,
     "metadata": {},
     "output_type": "execute_result"
    }
   ],
   "source": [
    "dataset.corr()"
   ]
  },
  {
   "cell_type": "markdown",
   "id": "lightweight-lobby",
   "metadata": {},
   "source": [
    "## Гипотеза 5. Длина сообщений"
   ]
  },
  {
   "cell_type": "code",
   "execution_count": 33,
   "id": "hispanic-metropolitan",
   "metadata": {},
   "outputs": [
    {
     "name": "stdout",
     "output_type": "stream",
     "text": [
      "82\n"
     ]
    }
   ],
   "source": [
    "# вычислим максимальную длину строки\n",
    "max_len = dataset.commit_message.apply(len).max()\n",
    "print(max_len)"
   ]
  },
  {
   "cell_type": "code",
   "execution_count": 34,
   "id": "outer-magic",
   "metadata": {},
   "outputs": [],
   "source": [
    "# функция выделения относительной длины сообщения\n",
    "def from_len(str):\n",
    "    return len(str) / max_len"
   ]
  },
  {
   "cell_type": "code",
   "execution_count": 35,
   "id": "colored-attribute",
   "metadata": {},
   "outputs": [
    {
     "data": {
      "text/html": [
       "<div>\n",
       "<style scoped>\n",
       "    .dataframe tbody tr th:only-of-type {\n",
       "        vertical-align: middle;\n",
       "    }\n",
       "\n",
       "    .dataframe tbody tr th {\n",
       "        vertical-align: top;\n",
       "    }\n",
       "\n",
       "    .dataframe thead th {\n",
       "        text-align: right;\n",
       "    }\n",
       "</style>\n",
       "<table border=\"1\" class=\"dataframe\">\n",
       "  <thead>\n",
       "    <tr style=\"text-align: right;\">\n",
       "      <th></th>\n",
       "      <th>repository_name</th>\n",
       "      <th>commit_hash</th>\n",
       "      <th>commit_date</th>\n",
       "      <th>commit_author</th>\n",
       "      <th>commit_message</th>\n",
       "      <th>bugs</th>\n",
       "      <th>mean_per_author</th>\n",
       "      <th>day_of_week</th>\n",
       "      <th>bugs_per_day</th>\n",
       "      <th>sin_time</th>\n",
       "      <th>bugs_per_rep</th>\n",
       "      <th>from_len</th>\n",
       "    </tr>\n",
       "  </thead>\n",
       "  <tbody>\n",
       "    <tr>\n",
       "      <th>0</th>\n",
       "      <td>mlm</td>\n",
       "      <td>b28abb42</td>\n",
       "      <td>2020-06-12 14:26:12</td>\n",
       "      <td>Victor</td>\n",
       "      <td>объяснения предсказаний с помощью lime</td>\n",
       "      <td>4</td>\n",
       "      <td>3.055556</td>\n",
       "      <td>4</td>\n",
       "      <td>2.573034</td>\n",
       "      <td>-0.594823</td>\n",
       "      <td>4.114286</td>\n",
       "      <td>0.463415</td>\n",
       "    </tr>\n",
       "    <tr>\n",
       "      <th>1</th>\n",
       "      <td>mlm</td>\n",
       "      <td>438b5c4d</td>\n",
       "      <td>2020-06-12 11:53:10</td>\n",
       "      <td>Victor</td>\n",
       "      <td>Поставил lime вместо eli5</td>\n",
       "      <td>3</td>\n",
       "      <td>3.055556</td>\n",
       "      <td>4</td>\n",
       "      <td>2.573034</td>\n",
       "      <td>0.030539</td>\n",
       "      <td>4.114286</td>\n",
       "      <td>0.304878</td>\n",
       "    </tr>\n",
       "    <tr>\n",
       "      <th>2</th>\n",
       "      <td>mlm</td>\n",
       "      <td>8e6e4f31</td>\n",
       "      <td>2020-06-11 15:19:03</td>\n",
       "      <td>Victor</td>\n",
       "      <td>Скрипт для создния пакетов обновления</td>\n",
       "      <td>4</td>\n",
       "      <td>3.055556</td>\n",
       "      <td>3</td>\n",
       "      <td>2.750000</td>\n",
       "      <td>-0.763232</td>\n",
       "      <td>4.114286</td>\n",
       "      <td>0.451220</td>\n",
       "    </tr>\n",
       "    <tr>\n",
       "      <th>3</th>\n",
       "      <td>mlm</td>\n",
       "      <td>5e0956a6</td>\n",
       "      <td>2020-06-11 10:42:29</td>\n",
       "      <td>Victor</td>\n",
       "      <td>Сортировка весов по убыванию</td>\n",
       "      <td>3</td>\n",
       "      <td>3.055556</td>\n",
       "      <td>3</td>\n",
       "      <td>2.750000</td>\n",
       "      <td>0.333807</td>\n",
       "      <td>4.114286</td>\n",
       "      <td>0.341463</td>\n",
       "    </tr>\n",
       "    <tr>\n",
       "      <th>4</th>\n",
       "      <td>mlm</td>\n",
       "      <td>b9f4b40c</td>\n",
       "      <td>2020-06-11 09:25:19</td>\n",
       "      <td>Victor</td>\n",
       "      <td>не надо конвертировать массив до операции по с...</td>\n",
       "      <td>7</td>\n",
       "      <td>3.055556</td>\n",
       "      <td>3</td>\n",
       "      <td>2.750000</td>\n",
       "      <td>0.625923</td>\n",
       "      <td>4.114286</td>\n",
       "      <td>0.682927</td>\n",
       "    </tr>\n",
       "    <tr>\n",
       "      <th>...</th>\n",
       "      <td>...</td>\n",
       "      <td>...</td>\n",
       "      <td>...</td>\n",
       "      <td>...</td>\n",
       "      <td>...</td>\n",
       "      <td>...</td>\n",
       "      <td>...</td>\n",
       "      <td>...</td>\n",
       "      <td>...</td>\n",
       "      <td>...</td>\n",
       "      <td>...</td>\n",
       "      <td>...</td>\n",
       "    </tr>\n",
       "    <tr>\n",
       "      <th>314</th>\n",
       "      <td>sensor</td>\n",
       "      <td>5b1ecbcd</td>\n",
       "      <td>2020-03-23 12:54:35</td>\n",
       "      <td>Dabe</td>\n",
       "      <td>setting hostname</td>\n",
       "      <td>1</td>\n",
       "      <td>2.404762</td>\n",
       "      <td>0</td>\n",
       "      <td>2.951220</td>\n",
       "      <td>-0.233445</td>\n",
       "      <td>2.284314</td>\n",
       "      <td>0.195122</td>\n",
       "    </tr>\n",
       "    <tr>\n",
       "      <th>315</th>\n",
       "      <td>sensor</td>\n",
       "      <td>a3f5b753</td>\n",
       "      <td>2020-03-23 12:30:52</td>\n",
       "      <td>Dabe</td>\n",
       "      <td>heralding default dockerfile</td>\n",
       "      <td>2</td>\n",
       "      <td>2.404762</td>\n",
       "      <td>0</td>\n",
       "      <td>2.951220</td>\n",
       "      <td>-0.130526</td>\n",
       "      <td>2.284314</td>\n",
       "      <td>0.341463</td>\n",
       "    </tr>\n",
       "    <tr>\n",
       "      <th>316</th>\n",
       "      <td>sensor</td>\n",
       "      <td>e8155942</td>\n",
       "      <td>2020-03-23 11:27:40</td>\n",
       "      <td>Dabe</td>\n",
       "      <td>unnesserity /data path permissions setting</td>\n",
       "      <td>3</td>\n",
       "      <td>2.404762</td>\n",
       "      <td>0</td>\n",
       "      <td>2.951220</td>\n",
       "      <td>0.143493</td>\n",
       "      <td>2.284314</td>\n",
       "      <td>0.512195</td>\n",
       "    </tr>\n",
       "    <tr>\n",
       "      <th>317</th>\n",
       "      <td>sensor</td>\n",
       "      <td>e748af51</td>\n",
       "      <td>2020-03-23 11:20:50</td>\n",
       "      <td>Dabe</td>\n",
       "      <td>added trapconductor</td>\n",
       "      <td>1</td>\n",
       "      <td>2.404762</td>\n",
       "      <td>0</td>\n",
       "      <td>2.951220</td>\n",
       "      <td>0.173648</td>\n",
       "      <td>2.284314</td>\n",
       "      <td>0.231707</td>\n",
       "    </tr>\n",
       "    <tr>\n",
       "      <th>318</th>\n",
       "      <td>sensor</td>\n",
       "      <td>a4574093</td>\n",
       "      <td>2020-03-23 11:07:07</td>\n",
       "      <td>Dabe</td>\n",
       "      <td>sensor</td>\n",
       "      <td>1</td>\n",
       "      <td>2.404762</td>\n",
       "      <td>0</td>\n",
       "      <td>2.951220</td>\n",
       "      <td>0.229200</td>\n",
       "      <td>2.284314</td>\n",
       "      <td>0.073171</td>\n",
       "    </tr>\n",
       "  </tbody>\n",
       "</table>\n",
       "<p>310 rows × 12 columns</p>\n",
       "</div>"
      ],
      "text/plain": [
       "    repository_name commit_hash         commit_date commit_author  \\\n",
       "0               mlm    b28abb42 2020-06-12 14:26:12        Victor   \n",
       "1               mlm    438b5c4d 2020-06-12 11:53:10        Victor   \n",
       "2               mlm    8e6e4f31 2020-06-11 15:19:03        Victor   \n",
       "3               mlm    5e0956a6 2020-06-11 10:42:29        Victor   \n",
       "4               mlm    b9f4b40c 2020-06-11 09:25:19        Victor   \n",
       "..              ...         ...                 ...           ...   \n",
       "314          sensor    5b1ecbcd 2020-03-23 12:54:35          Dabe   \n",
       "315          sensor    a3f5b753 2020-03-23 12:30:52          Dabe   \n",
       "316          sensor    e8155942 2020-03-23 11:27:40          Dabe   \n",
       "317          sensor    e748af51 2020-03-23 11:20:50          Dabe   \n",
       "318          sensor    a4574093 2020-03-23 11:07:07          Dabe   \n",
       "\n",
       "                                        commit_message  bugs  mean_per_author  \\\n",
       "0               объяснения предсказаний с помощью lime     4         3.055556   \n",
       "1                            Поставил lime вместо eli5     3         3.055556   \n",
       "2                Скрипт для создния пакетов обновления     4         3.055556   \n",
       "3                         Сортировка весов по убыванию     3         3.055556   \n",
       "4    не надо конвертировать массив до операции по с...     7         3.055556   \n",
       "..                                                 ...   ...              ...   \n",
       "314                                   setting hostname     1         2.404762   \n",
       "315                       heralding default dockerfile     2         2.404762   \n",
       "316         unnesserity /data path permissions setting     3         2.404762   \n",
       "317                                added trapconductor     1         2.404762   \n",
       "318                                             sensor     1         2.404762   \n",
       "\n",
       "     day_of_week  bugs_per_day  sin_time  bugs_per_rep  from_len  \n",
       "0              4      2.573034 -0.594823      4.114286  0.463415  \n",
       "1              4      2.573034  0.030539      4.114286  0.304878  \n",
       "2              3      2.750000 -0.763232      4.114286  0.451220  \n",
       "3              3      2.750000  0.333807      4.114286  0.341463  \n",
       "4              3      2.750000  0.625923      4.114286  0.682927  \n",
       "..           ...           ...       ...           ...       ...  \n",
       "314            0      2.951220 -0.233445      2.284314  0.195122  \n",
       "315            0      2.951220 -0.130526      2.284314  0.341463  \n",
       "316            0      2.951220  0.143493      2.284314  0.512195  \n",
       "317            0      2.951220  0.173648      2.284314  0.231707  \n",
       "318            0      2.951220  0.229200      2.284314  0.073171  \n",
       "\n",
       "[310 rows x 12 columns]"
      ]
     },
     "execution_count": 35,
     "metadata": {},
     "output_type": "execute_result"
    }
   ],
   "source": [
    "dataset['from_len'] = dataset.commit_message.apply(from_len)\n",
    "dataset"
   ]
  },
  {
   "cell_type": "code",
   "execution_count": 36,
   "id": "genuine-india",
   "metadata": {},
   "outputs": [
    {
     "data": {
      "text/plain": [
       "<matplotlib.collections.PathCollection at 0x26e74fa5f60>"
      ]
     },
     "execution_count": 36,
     "metadata": {},
     "output_type": "execute_result"
    },
    {
     "data": {
      "image/png": "[encoded data removed]",
      "text/plain": [
       "<Figure size 432x288 with 1 Axes>"
      ]
     },
     "metadata": {
      "needs_background": "light"
     },
     "output_type": "display_data"
    }
   ],
   "source": [
    "plt.scatter(dataset.from_len, dataset.bugs)"
   ]
  },
  {
   "cell_type": "code",
   "execution_count": 37,
   "id": "sacred-swaziland",
   "metadata": {},
   "outputs": [
    {
     "data": {
      "text/html": [
       "<div>\n",
       "<style scoped>\n",
       "    .dataframe tbody tr th:only-of-type {\n",
       "        vertical-align: middle;\n",
       "    }\n",
       "\n",
       "    .dataframe tbody tr th {\n",
       "        vertical-align: top;\n",
       "    }\n",
       "\n",
       "    .dataframe thead th {\n",
       "        text-align: right;\n",
       "    }\n",
       "</style>\n",
       "<table border=\"1\" class=\"dataframe\">\n",
       "  <thead>\n",
       "    <tr style=\"text-align: right;\">\n",
       "      <th></th>\n",
       "      <th>bugs</th>\n",
       "      <th>mean_per_author</th>\n",
       "      <th>day_of_week</th>\n",
       "      <th>bugs_per_day</th>\n",
       "      <th>sin_time</th>\n",
       "      <th>bugs_per_rep</th>\n",
       "      <th>from_len</th>\n",
       "    </tr>\n",
       "  </thead>\n",
       "  <tbody>\n",
       "    <tr>\n",
       "      <th>bugs</th>\n",
       "      <td>1.000000</td>\n",
       "      <td>0.309698</td>\n",
       "      <td>-0.025950</td>\n",
       "      <td>0.146793</td>\n",
       "      <td>0.002420</td>\n",
       "      <td>0.369403</td>\n",
       "      <td>0.650079</td>\n",
       "    </tr>\n",
       "    <tr>\n",
       "      <th>mean_per_author</th>\n",
       "      <td>0.309698</td>\n",
       "      <td>1.000000</td>\n",
       "      <td>-0.102407</td>\n",
       "      <td>0.093127</td>\n",
       "      <td>-0.030599</td>\n",
       "      <td>0.114783</td>\n",
       "      <td>0.151938</td>\n",
       "    </tr>\n",
       "    <tr>\n",
       "      <th>day_of_week</th>\n",
       "      <td>-0.025950</td>\n",
       "      <td>-0.102407</td>\n",
       "      <td>1.000000</td>\n",
       "      <td>-0.176782</td>\n",
       "      <td>0.048797</td>\n",
       "      <td>0.050637</td>\n",
       "      <td>-0.039623</td>\n",
       "    </tr>\n",
       "    <tr>\n",
       "      <th>bugs_per_day</th>\n",
       "      <td>0.146793</td>\n",
       "      <td>0.093127</td>\n",
       "      <td>-0.176782</td>\n",
       "      <td>1.000000</td>\n",
       "      <td>-0.082703</td>\n",
       "      <td>0.169394</td>\n",
       "      <td>0.015239</td>\n",
       "    </tr>\n",
       "    <tr>\n",
       "      <th>sin_time</th>\n",
       "      <td>0.002420</td>\n",
       "      <td>-0.030599</td>\n",
       "      <td>0.048797</td>\n",
       "      <td>-0.082703</td>\n",
       "      <td>1.000000</td>\n",
       "      <td>-0.118043</td>\n",
       "      <td>0.039454</td>\n",
       "    </tr>\n",
       "    <tr>\n",
       "      <th>bugs_per_rep</th>\n",
       "      <td>0.369403</td>\n",
       "      <td>0.114783</td>\n",
       "      <td>0.050637</td>\n",
       "      <td>0.169394</td>\n",
       "      <td>-0.118043</td>\n",
       "      <td>1.000000</td>\n",
       "      <td>0.039495</td>\n",
       "    </tr>\n",
       "    <tr>\n",
       "      <th>from_len</th>\n",
       "      <td>0.650079</td>\n",
       "      <td>0.151938</td>\n",
       "      <td>-0.039623</td>\n",
       "      <td>0.015239</td>\n",
       "      <td>0.039454</td>\n",
       "      <td>0.039495</td>\n",
       "      <td>1.000000</td>\n",
       "    </tr>\n",
       "  </tbody>\n",
       "</table>\n",
       "</div>"
      ],
      "text/plain": [
       "                     bugs  mean_per_author  day_of_week  bugs_per_day  \\\n",
       "bugs             1.000000         0.309698    -0.025950      0.146793   \n",
       "mean_per_author  0.309698         1.000000    -0.102407      0.093127   \n",
       "day_of_week     -0.025950        -0.102407     1.000000     -0.176782   \n",
       "bugs_per_day     0.146793         0.093127    -0.176782      1.000000   \n",
       "sin_time         0.002420        -0.030599     0.048797     -0.082703   \n",
       "bugs_per_rep     0.369403         0.114783     0.050637      0.169394   \n",
       "from_len         0.650079         0.151938    -0.039623      0.015239   \n",
       "\n",
       "                 sin_time  bugs_per_rep  from_len  \n",
       "bugs             0.002420      0.369403  0.650079  \n",
       "mean_per_author -0.030599      0.114783  0.151938  \n",
       "day_of_week      0.048797      0.050637 -0.039623  \n",
       "bugs_per_day    -0.082703      0.169394  0.015239  \n",
       "sin_time         1.000000     -0.118043  0.039454  \n",
       "bugs_per_rep    -0.118043      1.000000  0.039495  \n",
       "from_len         0.039454      0.039495  1.000000  "
      ]
     },
     "execution_count": 37,
     "metadata": {},
     "output_type": "execute_result"
    }
   ],
   "source": [
    "dataset.corr()"
   ]
  },
  {
   "cell_type": "markdown",
   "id": "pleased-airplane",
   "metadata": {},
   "source": [
    "Видно, что зависимость достаточно сильная"
   ]
  },
  {
   "cell_type": "markdown",
   "id": "together-greensboro",
   "metadata": {},
   "source": [
    "## Формирование обучающей и тестовой выборок"
   ]
  },
  {
   "cell_type": "code",
   "execution_count": 38,
   "id": "original-surprise",
   "metadata": {},
   "outputs": [
    {
     "data": {
      "text/html": [
       "<div>\n",
       "<style scoped>\n",
       "    .dataframe tbody tr th:only-of-type {\n",
       "        vertical-align: middle;\n",
       "    }\n",
       "\n",
       "    .dataframe tbody tr th {\n",
       "        vertical-align: top;\n",
       "    }\n",
       "\n",
       "    .dataframe thead th {\n",
       "        text-align: right;\n",
       "    }\n",
       "</style>\n",
       "<table border=\"1\" class=\"dataframe\">\n",
       "  <thead>\n",
       "    <tr style=\"text-align: right;\">\n",
       "      <th></th>\n",
       "      <th>mean_per_author</th>\n",
       "      <th>bugs_per_day</th>\n",
       "      <th>bugs_per_rep</th>\n",
       "      <th>from_len</th>\n",
       "      <th>bugs</th>\n",
       "    </tr>\n",
       "  </thead>\n",
       "  <tbody>\n",
       "    <tr>\n",
       "      <th>0</th>\n",
       "      <td>3.055556</td>\n",
       "      <td>2.573034</td>\n",
       "      <td>4.114286</td>\n",
       "      <td>0.463415</td>\n",
       "      <td>4</td>\n",
       "    </tr>\n",
       "    <tr>\n",
       "      <th>1</th>\n",
       "      <td>3.055556</td>\n",
       "      <td>2.573034</td>\n",
       "      <td>4.114286</td>\n",
       "      <td>0.304878</td>\n",
       "      <td>3</td>\n",
       "    </tr>\n",
       "    <tr>\n",
       "      <th>2</th>\n",
       "      <td>3.055556</td>\n",
       "      <td>2.750000</td>\n",
       "      <td>4.114286</td>\n",
       "      <td>0.451220</td>\n",
       "      <td>4</td>\n",
       "    </tr>\n",
       "    <tr>\n",
       "      <th>3</th>\n",
       "      <td>3.055556</td>\n",
       "      <td>2.750000</td>\n",
       "      <td>4.114286</td>\n",
       "      <td>0.341463</td>\n",
       "      <td>3</td>\n",
       "    </tr>\n",
       "    <tr>\n",
       "      <th>4</th>\n",
       "      <td>3.055556</td>\n",
       "      <td>2.750000</td>\n",
       "      <td>4.114286</td>\n",
       "      <td>0.682927</td>\n",
       "      <td>7</td>\n",
       "    </tr>\n",
       "    <tr>\n",
       "      <th>...</th>\n",
       "      <td>...</td>\n",
       "      <td>...</td>\n",
       "      <td>...</td>\n",
       "      <td>...</td>\n",
       "      <td>...</td>\n",
       "    </tr>\n",
       "    <tr>\n",
       "      <th>314</th>\n",
       "      <td>2.404762</td>\n",
       "      <td>2.951220</td>\n",
       "      <td>2.284314</td>\n",
       "      <td>0.195122</td>\n",
       "      <td>1</td>\n",
       "    </tr>\n",
       "    <tr>\n",
       "      <th>315</th>\n",
       "      <td>2.404762</td>\n",
       "      <td>2.951220</td>\n",
       "      <td>2.284314</td>\n",
       "      <td>0.341463</td>\n",
       "      <td>2</td>\n",
       "    </tr>\n",
       "    <tr>\n",
       "      <th>316</th>\n",
       "      <td>2.404762</td>\n",
       "      <td>2.951220</td>\n",
       "      <td>2.284314</td>\n",
       "      <td>0.512195</td>\n",
       "      <td>3</td>\n",
       "    </tr>\n",
       "    <tr>\n",
       "      <th>317</th>\n",
       "      <td>2.404762</td>\n",
       "      <td>2.951220</td>\n",
       "      <td>2.284314</td>\n",
       "      <td>0.231707</td>\n",
       "      <td>1</td>\n",
       "    </tr>\n",
       "    <tr>\n",
       "      <th>318</th>\n",
       "      <td>2.404762</td>\n",
       "      <td>2.951220</td>\n",
       "      <td>2.284314</td>\n",
       "      <td>0.073171</td>\n",
       "      <td>1</td>\n",
       "    </tr>\n",
       "  </tbody>\n",
       "</table>\n",
       "<p>310 rows × 5 columns</p>\n",
       "</div>"
      ],
      "text/plain": [
       "     mean_per_author  bugs_per_day  bugs_per_rep  from_len  bugs\n",
       "0           3.055556      2.573034      4.114286  0.463415     4\n",
       "1           3.055556      2.573034      4.114286  0.304878     3\n",
       "2           3.055556      2.750000      4.114286  0.451220     4\n",
       "3           3.055556      2.750000      4.114286  0.341463     3\n",
       "4           3.055556      2.750000      4.114286  0.682927     7\n",
       "..               ...           ...           ...       ...   ...\n",
       "314         2.404762      2.951220      2.284314  0.195122     1\n",
       "315         2.404762      2.951220      2.284314  0.341463     2\n",
       "316         2.404762      2.951220      2.284314  0.512195     3\n",
       "317         2.404762      2.951220      2.284314  0.231707     1\n",
       "318         2.404762      2.951220      2.284314  0.073171     1\n",
       "\n",
       "[310 rows x 5 columns]"
      ]
     },
     "execution_count": 38,
     "metadata": {},
     "output_type": "execute_result"
    }
   ],
   "source": [
    "df = pd.concat([\n",
    "    dataset.mean_per_author, dataset.bugs_per_day, dataset.bugs_per_rep,\n",
    "    dataset.from_len, dataset.bugs\n",
    "],\n",
    "               axis=1)\n",
    "df"
   ]
  },
  {
   "cell_type": "code",
   "execution_count": 39,
   "id": "comfortable-emperor",
   "metadata": {},
   "outputs": [
    {
     "data": {
      "image/png": "[encoded data removed]",
      "text/plain": [
       "<Figure size 1080x1080 with 25 Axes>"
      ]
     },
     "metadata": {
      "needs_background": "light"
     },
     "output_type": "display_data"
    }
   ],
   "source": [
    "fig, ax = plt.subplots(5, 5, figsize=(15, 15))\n",
    "features=['mean_per_author', 'bugs_per_day', 'bugs_per_rep', 'from_len', 'sin_time', 'bugs']\n",
    "for i in range(5):\n",
    "    for j in range(5):\n",
    "        ax[i, j].scatter(df.iloc[:, j], df.iloc[:, i])\n",
    "        #ax[i, j].set_xticks(())\n",
    "        #ax[i, j].set_yticks(())\n",
    "        if i == 5:\n",
    "            ax[i, j].set_xlabel(features[j])\n",
    "        if j == 0:\n",
    "            ax[i, j].set_ylabel(features[i])\n",
    "        if i<j:\n",
    "            ax[i,j].set_visible(False)"
   ]
  },
  {
   "cell_type": "code",
   "execution_count": 40,
   "id": "durable-memory",
   "metadata": {},
   "outputs": [],
   "source": [
    "# сохранение датасета в файл\n",
    "df.to_csv('prepared_dataset2.csv', index=False)"
   ]
  },
  {
   "cell_type": "markdown",
   "id": "neural-newfoundland",
   "metadata": {},
   "source": [
    "## Построение регрессионных моделей"
   ]
  },
  {
   "cell_type": "code",
   "execution_count": 41,
   "id": "unusual-blake",
   "metadata": {},
   "outputs": [],
   "source": [
    "from sklearn.model_selection import train_test_split\n",
    "from sklearn import preprocessing\n",
    "from sklearn.model_selection import GridSearchCV\n",
    "from sklearn.linear_model import Ridge, Lasso\n",
    "from sklearn.ensemble import RandomForestRegressor\n",
    "from sklearn.svm import SVR\n",
    "from sklearn.metrics import mean_squared_error, mean_absolute_error, max_error"
   ]
  },
  {
   "cell_type": "code",
   "execution_count": 42,
   "id": "confused-image",
   "metadata": {},
   "outputs": [],
   "source": [
    "Ridge_reg = Ridge()\n",
    "Lasso_reg=Lasso()\n",
    "Forest_reg=RandomForestRegressor()\n",
    "SVR_reg=SVR()"
   ]
  },
  {
   "cell_type": "code",
   "execution_count": 43,
   "id": "continent-float",
   "metadata": {},
   "outputs": [
    {
     "data": {
      "text/plain": [
       "array([4, 3, 4, 3, 7, 6, 4, 4, 2, 5, 2, 1, 5, 7, 4, 2, 4, 6, 4, 2, 3, 2,\n",
       "       3, 3, 3, 5, 4, 6, 7, 6, 4, 7, 3, 6, 3, 1, 0, 3, 6, 3, 3, 3, 3, 2,\n",
       "       3, 1, 1, 5, 5, 2, 3, 4, 4, 2, 7, 2, 2, 2, 3, 2, 4, 4, 3, 2, 1, 3,\n",
       "       2, 3, 2, 3, 4, 4, 3, 5, 5, 2, 2, 2, 2, 2, 2, 3, 1, 2, 1, 3, 3, 0,\n",
       "       4, 1, 4, 4, 2, 2, 1, 4, 2, 4, 3, 2, 5, 2, 4, 2, 4, 4, 5, 4, 4, 1,\n",
       "       2, 2, 2, 1, 5, 3, 2, 3, 2, 4, 6, 2, 4, 2, 4, 1, 4, 4, 4, 2, 2, 7,\n",
       "       4, 5, 0, 5, 5, 7, 3, 4, 2, 6, 3, 5, 2, 3, 3, 2, 4, 2, 2, 2, 3, 0,\n",
       "       2, 2, 3, 2, 2, 2, 3, 4, 3, 2, 2, 2, 2, 2, 6, 4, 2, 2, 2, 2, 3, 2,\n",
       "       2, 2, 2, 3, 3, 3, 3, 3, 3, 2, 2, 5, 2, 3, 3, 3, 0, 3, 2, 3, 4, 3,\n",
       "       0, 3, 2, 1, 2, 3, 4, 1, 3, 5, 2, 1, 1, 1, 1, 2, 1, 2, 1, 3, 2, 1,\n",
       "       2, 2, 3, 2, 4, 2, 1, 1, 4, 2, 1, 1, 1, 1, 4, 2, 4, 3, 3, 3, 3, 3,\n",
       "       2, 2, 6, 3, 3, 1, 1, 4, 1, 1, 2, 2, 1, 0, 3, 1, 1, 2, 3, 2, 2, 1,\n",
       "       2, 2, 3, 3, 3, 2, 4, 3, 2, 0, 1, 4, 3, 5, 2, 2, 3, 4, 2, 4, 4, 4,\n",
       "       2, 3, 2, 5, 4, 5, 2, 4, 3, 1, 3, 3, 3, 3, 2, 1, 1, 1, 1, 1, 2, 3,\n",
       "       1, 1], dtype=int64)"
      ]
     },
     "execution_count": 43,
     "metadata": {},
     "output_type": "execute_result"
    }
   ],
   "source": [
    "y = df.filter(['bugs'])\n",
    "y=np.ravel(y)\n",
    "y"
   ]
  },
  {
   "cell_type": "code",
   "execution_count": 44,
   "id": "interim-looking",
   "metadata": {
    "scrolled": true
   },
   "outputs": [
    {
     "data": {
      "text/html": [
       "<div>\n",
       "<style scoped>\n",
       "    .dataframe tbody tr th:only-of-type {\n",
       "        vertical-align: middle;\n",
       "    }\n",
       "\n",
       "    .dataframe tbody tr th {\n",
       "        vertical-align: top;\n",
       "    }\n",
       "\n",
       "    .dataframe thead th {\n",
       "        text-align: right;\n",
       "    }\n",
       "</style>\n",
       "<table border=\"1\" class=\"dataframe\">\n",
       "  <thead>\n",
       "    <tr style=\"text-align: right;\">\n",
       "      <th></th>\n",
       "      <th>mean_per_author</th>\n",
       "      <th>bugs_per_day</th>\n",
       "      <th>bugs_per_rep</th>\n",
       "      <th>from_len</th>\n",
       "    </tr>\n",
       "  </thead>\n",
       "  <tbody>\n",
       "    <tr>\n",
       "      <th>0</th>\n",
       "      <td>3.055556</td>\n",
       "      <td>2.573034</td>\n",
       "      <td>4.114286</td>\n",
       "      <td>0.463415</td>\n",
       "    </tr>\n",
       "    <tr>\n",
       "      <th>1</th>\n",
       "      <td>3.055556</td>\n",
       "      <td>2.573034</td>\n",
       "      <td>4.114286</td>\n",
       "      <td>0.304878</td>\n",
       "    </tr>\n",
       "    <tr>\n",
       "      <th>2</th>\n",
       "      <td>3.055556</td>\n",
       "      <td>2.750000</td>\n",
       "      <td>4.114286</td>\n",
       "      <td>0.451220</td>\n",
       "    </tr>\n",
       "    <tr>\n",
       "      <th>3</th>\n",
       "      <td>3.055556</td>\n",
       "      <td>2.750000</td>\n",
       "      <td>4.114286</td>\n",
       "      <td>0.341463</td>\n",
       "    </tr>\n",
       "    <tr>\n",
       "      <th>4</th>\n",
       "      <td>3.055556</td>\n",
       "      <td>2.750000</td>\n",
       "      <td>4.114286</td>\n",
       "      <td>0.682927</td>\n",
       "    </tr>\n",
       "    <tr>\n",
       "      <th>...</th>\n",
       "      <td>...</td>\n",
       "      <td>...</td>\n",
       "      <td>...</td>\n",
       "      <td>...</td>\n",
       "    </tr>\n",
       "    <tr>\n",
       "      <th>314</th>\n",
       "      <td>2.404762</td>\n",
       "      <td>2.951220</td>\n",
       "      <td>2.284314</td>\n",
       "      <td>0.195122</td>\n",
       "    </tr>\n",
       "    <tr>\n",
       "      <th>315</th>\n",
       "      <td>2.404762</td>\n",
       "      <td>2.951220</td>\n",
       "      <td>2.284314</td>\n",
       "      <td>0.341463</td>\n",
       "    </tr>\n",
       "    <tr>\n",
       "      <th>316</th>\n",
       "      <td>2.404762</td>\n",
       "      <td>2.951220</td>\n",
       "      <td>2.284314</td>\n",
       "      <td>0.512195</td>\n",
       "    </tr>\n",
       "    <tr>\n",
       "      <th>317</th>\n",
       "      <td>2.404762</td>\n",
       "      <td>2.951220</td>\n",
       "      <td>2.284314</td>\n",
       "      <td>0.231707</td>\n",
       "    </tr>\n",
       "    <tr>\n",
       "      <th>318</th>\n",
       "      <td>2.404762</td>\n",
       "      <td>2.951220</td>\n",
       "      <td>2.284314</td>\n",
       "      <td>0.073171</td>\n",
       "    </tr>\n",
       "  </tbody>\n",
       "</table>\n",
       "<p>310 rows × 4 columns</p>\n",
       "</div>"
      ],
      "text/plain": [
       "     mean_per_author  bugs_per_day  bugs_per_rep  from_len\n",
       "0           3.055556      2.573034      4.114286  0.463415\n",
       "1           3.055556      2.573034      4.114286  0.304878\n",
       "2           3.055556      2.750000      4.114286  0.451220\n",
       "3           3.055556      2.750000      4.114286  0.341463\n",
       "4           3.055556      2.750000      4.114286  0.682927\n",
       "..               ...           ...           ...       ...\n",
       "314         2.404762      2.951220      2.284314  0.195122\n",
       "315         2.404762      2.951220      2.284314  0.341463\n",
       "316         2.404762      2.951220      2.284314  0.512195\n",
       "317         2.404762      2.951220      2.284314  0.231707\n",
       "318         2.404762      2.951220      2.284314  0.073171\n",
       "\n",
       "[310 rows x 4 columns]"
      ]
     },
     "execution_count": 44,
     "metadata": {},
     "output_type": "execute_result"
    }
   ],
   "source": [
    "X = df.drop(['bugs'], axis=1)\n",
    "X"
   ]
  },
  {
   "cell_type": "code",
   "execution_count": 45,
   "id": "controlling-tracker",
   "metadata": {},
   "outputs": [
    {
     "data": {
      "text/plain": [
       "array([[0.83636364, 0.        , 1.        , 0.43589744],\n",
       "       [0.83636364, 0.        , 1.        , 0.26923077],\n",
       "       [0.83636364, 0.20976693, 1.        , 0.42307692],\n",
       "       ...,\n",
       "       [0.62337662, 0.4482824 , 0.        , 0.48717949],\n",
       "       [0.62337662, 0.4482824 , 0.        , 0.19230769],\n",
       "       [0.62337662, 0.4482824 , 0.        , 0.02564103]])"
      ]
     },
     "execution_count": 45,
     "metadata": {},
     "output_type": "execute_result"
    }
   ],
   "source": [
    "scaler = preprocessing.MinMaxScaler()\n",
    "X = scaler.fit_transform(X)\n",
    "X"
   ]
  },
  {
   "cell_type": "code",
   "execution_count": 46,
   "id": "structural-polyester",
   "metadata": {},
   "outputs": [],
   "source": [
    "lin_params = {'alpha': np.logspace(-2, 1, 37)}\n",
    "forest_params={'n_estimators':range(50,151,25),\n",
    "              'max_depth':range(1,11),\n",
    "              'max_features':range(1,5)}\n",
    "svr_params={'C':np.logspace(-1, 1, 33), \n",
    "            'epsilon':np.logspace(-2, 1, 37)}"
   ]
  },
  {
   "cell_type": "markdown",
   "id": "level-reliance",
   "metadata": {},
   "source": [
    "### Ridge"
   ]
  },
  {
   "cell_type": "code",
   "execution_count": 47,
   "id": "satisfactory-polymer",
   "metadata": {
    "scrolled": false
   },
   "outputs": [
    {
     "data": {
      "text/plain": [
       "GridSearchCV(estimator=Ridge(),\n",
       "             param_grid={'alpha': array([ 0.01      ,  0.01211528,  0.01467799,  0.01778279,  0.02154435,\n",
       "        0.02610157,  0.03162278,  0.03831187,  0.04641589,  0.05623413,\n",
       "        0.06812921,  0.08254042,  0.1       ,  0.12115277,  0.14677993,\n",
       "        0.17782794,  0.21544347,  0.26101572,  0.31622777,  0.38311868,\n",
       "        0.46415888,  0.56234133,  0.68129207,  0.82540419,  1.        ,\n",
       "        1.21152766,  1.46779927,  1.77827941,  2.15443469,  2.61015722,\n",
       "        3.16227766,  3.83118685,  4.64158883,  5.62341325,  6.81292069,\n",
       "        8.25404185, 10.        ])},\n",
       "             refit='neg_mean_absolute_error',\n",
       "             scoring=['neg_mean_squared_error', 'neg_mean_absolute_error'])"
      ]
     },
     "execution_count": 47,
     "metadata": {},
     "output_type": "execute_result"
    }
   ],
   "source": [
    "grid = GridSearchCV(Ridge_reg, lin_params, scoring = ['neg_mean_squared_error','neg_mean_absolute_error'], \n",
    "                    refit='neg_mean_absolute_error')\n",
    "grid.fit(X, y)"
   ]
  },
  {
   "cell_type": "code",
   "execution_count": 48,
   "id": "visible-jewel",
   "metadata": {
    "scrolled": true
   },
   "outputs": [
    {
     "data": {
      "text/plain": [
       "{'alpha': 1.467799267622069}"
      ]
     },
     "execution_count": 48,
     "metadata": {},
     "output_type": "execute_result"
    }
   ],
   "source": [
    "grid.best_params_"
   ]
  },
  {
   "cell_type": "code",
   "execution_count": 49,
   "id": "competitive-appliance",
   "metadata": {
    "scrolled": true
   },
   "outputs": [
    {
     "data": {
      "text/plain": [
       "-0.7174012361925198"
      ]
     },
     "execution_count": 49,
     "metadata": {},
     "output_type": "execute_result"
    }
   ],
   "source": [
    "grid.best_score_"
   ]
  },
  {
   "cell_type": "markdown",
   "id": "blind-senegal",
   "metadata": {},
   "source": [
    "### Lasso"
   ]
  },
  {
   "cell_type": "code",
   "execution_count": 50,
   "id": "continued-halloween",
   "metadata": {
    "scrolled": false
   },
   "outputs": [
    {
     "data": {
      "text/plain": [
       "GridSearchCV(estimator=Lasso(),\n",
       "             param_grid={'alpha': array([ 0.01      ,  0.01211528,  0.01467799,  0.01778279,  0.02154435,\n",
       "        0.02610157,  0.03162278,  0.03831187,  0.04641589,  0.05623413,\n",
       "        0.06812921,  0.08254042,  0.1       ,  0.12115277,  0.14677993,\n",
       "        0.17782794,  0.21544347,  0.26101572,  0.31622777,  0.38311868,\n",
       "        0.46415888,  0.56234133,  0.68129207,  0.82540419,  1.        ,\n",
       "        1.21152766,  1.46779927,  1.77827941,  2.15443469,  2.61015722,\n",
       "        3.16227766,  3.83118685,  4.64158883,  5.62341325,  6.81292069,\n",
       "        8.25404185, 10.        ])},\n",
       "             refit='neg_mean_absolute_error',\n",
       "             scoring=['neg_mean_squared_error', 'neg_mean_absolute_error'])"
      ]
     },
     "execution_count": 50,
     "metadata": {},
     "output_type": "execute_result"
    }
   ],
   "source": [
    "grid = GridSearchCV(Lasso_reg, lin_params, scoring = ['neg_mean_squared_error','neg_mean_absolute_error'], \n",
    "                    refit='neg_mean_absolute_error')\n",
    "grid.fit(X, y)"
   ]
  },
  {
   "cell_type": "code",
   "execution_count": 51,
   "id": "heavy-juice",
   "metadata": {
    "scrolled": true
   },
   "outputs": [
    {
     "data": {
      "text/plain": [
       "{'alpha': 0.01778279410038923}"
      ]
     },
     "execution_count": 51,
     "metadata": {},
     "output_type": "execute_result"
    }
   ],
   "source": [
    "grid.best_params_"
   ]
  },
  {
   "cell_type": "code",
   "execution_count": 52,
   "id": "closing-parts",
   "metadata": {
    "scrolled": true
   },
   "outputs": [
    {
     "data": {
      "text/plain": [
       "-0.7105358538884913"
      ]
     },
     "execution_count": 52,
     "metadata": {},
     "output_type": "execute_result"
    }
   ],
   "source": [
    "grid.best_score_"
   ]
  },
  {
   "cell_type": "markdown",
   "id": "internal-arrow",
   "metadata": {},
   "source": [
    "### RandomForest"
   ]
  },
  {
   "cell_type": "code",
   "execution_count": 53,
   "id": "elementary-exhibit",
   "metadata": {
    "scrolled": false
   },
   "outputs": [
    {
     "data": {
      "text/plain": [
       "GridSearchCV(estimator=RandomForestRegressor(),\n",
       "             param_grid={'max_depth': range(1, 11), 'max_features': range(1, 5),\n",
       "                         'n_estimators': range(50, 151, 25)},\n",
       "             refit='neg_mean_absolute_error',\n",
       "             scoring=['neg_mean_squared_error', 'neg_mean_absolute_error'])"
      ]
     },
     "execution_count": 53,
     "metadata": {},
     "output_type": "execute_result"
    }
   ],
   "source": [
    "grid = GridSearchCV(Forest_reg, forest_params, scoring = ['neg_mean_squared_error','neg_mean_absolute_error'],\n",
    "                    refit='neg_mean_absolute_error')\n",
    "grid.fit(X, y)"
   ]
  },
  {
   "cell_type": "code",
   "execution_count": 54,
   "id": "saving-receiver",
   "metadata": {
    "scrolled": true
   },
   "outputs": [
    {
     "data": {
      "text/plain": [
       "{'max_depth': 10, 'max_features': 1, 'n_estimators': 50}"
      ]
     },
     "execution_count": 54,
     "metadata": {},
     "output_type": "execute_result"
    }
   ],
   "source": [
    "grid.best_params_"
   ]
  },
  {
   "cell_type": "code",
   "execution_count": 55,
   "id": "considerable-prison",
   "metadata": {},
   "outputs": [
    {
     "data": {
      "text/plain": [
       "-0.7032566443962878"
      ]
     },
     "execution_count": 55,
     "metadata": {},
     "output_type": "execute_result"
    }
   ],
   "source": [
    "grid.best_score_"
   ]
  },
  {
   "cell_type": "markdown",
   "id": "abandoned-payment",
   "metadata": {},
   "source": [
    "### SVR"
   ]
  },
  {
   "cell_type": "code",
   "execution_count": 56,
   "id": "several-billy",
   "metadata": {
    "scrolled": false
   },
   "outputs": [
    {
     "data": {
      "text/plain": [
       "GridSearchCV(estimator=SVR(),\n",
       "             param_grid={'C': array([ 0.1       ,  0.1154782 ,  0.13335214,  0.15399265,  0.17782794,\n",
       "        0.2053525 ,  0.23713737,  0.27384196,  0.31622777,  0.36517413,\n",
       "        0.4216965 ,  0.48696753,  0.56234133,  0.64938163,  0.74989421,\n",
       "        0.86596432,  1.        ,  1.15478198,  1.33352143,  1.53992653,\n",
       "        1.77827941,  2.05352503,  2.37137371,  2.73841963,  3.16227766,\n",
       "        3.65174127,  4.21696503,  4.86967525,  5.623413...\n",
       "        0.06812921,  0.08254042,  0.1       ,  0.12115277,  0.14677993,\n",
       "        0.17782794,  0.21544347,  0.26101572,  0.31622777,  0.38311868,\n",
       "        0.46415888,  0.56234133,  0.68129207,  0.82540419,  1.        ,\n",
       "        1.21152766,  1.46779927,  1.77827941,  2.15443469,  2.61015722,\n",
       "        3.16227766,  3.83118685,  4.64158883,  5.62341325,  6.81292069,\n",
       "        8.25404185, 10.        ])},\n",
       "             refit='neg_mean_absolute_error',\n",
       "             scoring=['neg_mean_squared_error', 'neg_mean_absolute_error'])"
      ]
     },
     "execution_count": 56,
     "metadata": {},
     "output_type": "execute_result"
    }
   ],
   "source": [
    "grid = GridSearchCV(SVR_reg, svr_params, scoring = ['neg_mean_squared_error','neg_mean_absolute_error'], \n",
    "                    refit='neg_mean_absolute_error')\n",
    "grid.fit(X, y)"
   ]
  },
  {
   "cell_type": "code",
   "execution_count": 57,
   "id": "southern-tumor",
   "metadata": {
    "scrolled": true
   },
   "outputs": [
    {
     "data": {
      "text/plain": [
       "{'C': 1.7782794100389228, 'epsilon': 0.31622776601683794}"
      ]
     },
     "execution_count": 57,
     "metadata": {},
     "output_type": "execute_result"
    }
   ],
   "source": [
    "grid.best_params_"
   ]
  },
  {
   "cell_type": "code",
   "execution_count": 58,
   "id": "different-satin",
   "metadata": {},
   "outputs": [
    {
     "data": {
      "text/plain": [
       "-0.7100994567991622"
      ]
     },
     "execution_count": 58,
     "metadata": {},
     "output_type": "execute_result"
    }
   ],
   "source": [
    "grid.best_score_"
   ]
  },
  {
   "cell_type": "code",
   "execution_count": 59,
   "id": "abstract-communication",
   "metadata": {},
   "outputs": [],
   "source": [
    "X_train, X_test, y_train, y_test = train_test_split(X,\n",
    "                                                    y,\n",
    "                                                    test_size=0.25,\n",
    "                                                    random_state=2)"
   ]
  },
  {
   "cell_type": "code",
   "execution_count": 60,
   "id": "respected-peninsula",
   "metadata": {},
   "outputs": [
    {
     "data": {
      "text/plain": [
       "Lasso(alpha=0.017)"
      ]
     },
     "execution_count": 60,
     "metadata": {},
     "output_type": "execute_result"
    }
   ],
   "source": [
    "Lasso_regressor=Lasso(alpha=0.017)\n",
    "Lasso_regressor.fit(X_train,y_train)"
   ]
  },
  {
   "cell_type": "code",
   "execution_count": 61,
   "id": "handy-prime",
   "metadata": {},
   "outputs": [
    {
     "data": {
      "text/plain": [
       "Ridge(alpha=1.46)"
      ]
     },
     "execution_count": 61,
     "metadata": {},
     "output_type": "execute_result"
    }
   ],
   "source": [
    "Ridge_regressor=Ridge(alpha=1.46)\n",
    "Ridge_regressor.fit(X_train, y_train)"
   ]
  },
  {
   "cell_type": "code",
   "execution_count": 62,
   "id": "hungry-wales",
   "metadata": {},
   "outputs": [
    {
     "data": {
      "text/plain": [
       "RandomForestRegressor(max_depth=10, max_features=1, n_estimators=50)"
      ]
     },
     "execution_count": 62,
     "metadata": {},
     "output_type": "execute_result"
    }
   ],
   "source": [
    "Forest_regressor=RandomForestRegressor(max_depth=10, max_features=1, n_estimators=50)\n",
    "Forest_regressor.fit(X_train, y_train)"
   ]
  },
  {
   "cell_type": "code",
   "execution_count": 63,
   "id": "monthly-retro",
   "metadata": {},
   "outputs": [
    {
     "data": {
      "text/plain": [
       "SVR(C=1.778, epsilon=0.316)"
      ]
     },
     "execution_count": 63,
     "metadata": {},
     "output_type": "execute_result"
    }
   ],
   "source": [
    "SVR_regressor=SVR(C=1.778, epsilon=0.316)\n",
    "SVR_regressor.fit(X_train, y_train)"
   ]
  },
  {
   "cell_type": "code",
   "execution_count": 64,
   "id": "faced-forge",
   "metadata": {},
   "outputs": [],
   "source": [
    "def print_metrics(y,y_pred):\n",
    "    print('MSE', mean_squared_error(y_test, y_pred))\n",
    "    print('MAE', mean_absolute_error(y_test, y_pred))\n",
    "    print('Max', max_error(y_test, y_pred))\n",
    "    pass"
   ]
  },
  {
   "cell_type": "code",
   "execution_count": 65,
   "id": "drawn-mustang",
   "metadata": {},
   "outputs": [],
   "source": [
    "def estimate_model(model, y):\n",
    "    print('До округления')\n",
    "    y_pred=model.predict(X_test)\n",
    "    markerline, stemlines, baseline=plt.stem(\n",
    "        range(0, len(y_pred)), abs(y_pred-y_test), linefmt='blue',label='abs_error without round')\n",
    "    markerline.set_markerfacecolor('blue')\n",
    "    print_metrics(y,y_pred)\n",
    "    print('После округления')\n",
    "    y_pred=np.round(y_pred,decimals=0)\n",
    "    print_metrics(y,y_pred)\n",
    "    markerline, stemlines, baseline=plt.stem(\n",
    "        range(0, len(y_pred)), abs(y_pred-y_test), linefmt='red',label='abs_error with round')\n",
    "    markerline.set_markerfacecolor('red')\n",
    "    plt.legend()\n",
    "    pass"
   ]
  },
  {
   "cell_type": "code",
   "execution_count": 66,
   "id": "cross-therapist",
   "metadata": {},
   "outputs": [
    {
     "name": "stdout",
     "output_type": "stream",
     "text": [
      "До округления\n",
      "MSE 1.0174638774528928\n",
      "MAE 0.6748983380914493\n",
      "Max 4.128588042789765\n",
      "После округления\n",
      "MSE 1.0769230769230769\n",
      "MAE 0.5897435897435898\n",
      "Max 4.0\n"
     ]
    },
    {
     "data": {
      "image/png": "[encoded data removed]",
      "text/plain": [
       "<Figure size 432x288 with 1 Axes>"
      ]
     },
     "metadata": {
      "needs_background": "light"
     },
     "output_type": "display_data"
    }
   ],
   "source": [
    "estimate_model(Lasso_regressor,y)"
   ]
  },
  {
   "cell_type": "code",
   "execution_count": 67,
   "id": "recognized-failure",
   "metadata": {},
   "outputs": [
    {
     "name": "stdout",
     "output_type": "stream",
     "text": [
      "До округления\n",
      "MSE 1.022313231018337\n",
      "MAE 0.688287513284263\n",
      "Max 3.757818742079549\n",
      "После округления\n",
      "MSE 1.2564102564102564\n",
      "MAE 0.6923076923076923\n",
      "Max 4.0\n"
     ]
    },
    {
     "data": {
      "image/png": "[encoded data removed]",
      "text/plain": [
       "<Figure size 432x288 with 1 Axes>"
      ]
     },
     "metadata": {
      "needs_background": "light"
     },
     "output_type": "display_data"
    }
   ],
   "source": [
    "estimate_model(Ridge_regressor,y)"
   ]
  },
  {
   "cell_type": "code",
   "execution_count": 68,
   "id": "uniform-biology",
   "metadata": {},
   "outputs": [
    {
     "name": "stdout",
     "output_type": "stream",
     "text": [
      "До округления\n",
      "MSE 0.9949485606994535\n",
      "MAE 0.6294370515524361\n",
      "Max 4.442333333333334\n",
      "После округления\n",
      "MSE 1.0769230769230769\n",
      "MAE 0.5897435897435898\n",
      "Max 4.0\n"
     ]
    },
    {
     "data": {
      "image/png": "[encoded data removed]",
      "text/plain": [
       "<Figure size 432x288 with 1 Axes>"
      ]
     },
     "metadata": {
      "needs_background": "light"
     },
     "output_type": "display_data"
    }
   ],
   "source": [
    "estimate_model(Forest_regressor,y)"
   ]
  },
  {
   "cell_type": "code",
   "execution_count": 69,
   "id": "royal-breach",
   "metadata": {
    "scrolled": false
   },
   "outputs": [
    {
     "name": "stdout",
     "output_type": "stream",
     "text": [
      "До округления\n",
      "MSE 0.7948751511347734\n",
      "MAE 0.5974393655111455\n",
      "Max 4.438243597888599\n",
      "После округления\n",
      "MSE 0.8205128205128205\n",
      "MAE 0.5128205128205128\n",
      "Max 4.0\n"
     ]
    },
    {
     "data": {
      "image/png": "[encoded data removed]",
      "text/plain": [
       "<Figure size 432x288 with 1 Axes>"
      ]
     },
     "metadata": {
      "needs_background": "light"
     },
     "output_type": "display_data"
    }
   ],
   "source": [
    "estimate_model(SVR_regressor,y)"
   ]
  },
  {
   "cell_type": "markdown",
   "id": "responsible-novelty",
   "metadata": {},
   "source": [
    "## Значения метрик после округления"
   ]
  },
  {
   "cell_type": "markdown",
   "id": "local-pearl",
   "metadata": {},
   "source": [
    "<table>\n",
    "    <tr><th></th><th>Lasso</th><th>Ridge</th><th>Forest</th><th>SVR</th></tr>\n",
    "    <tr><th>MSE</th><td>1.077</td><td>1.25</td><td>1.07</td><td>0.82</td></tr>\n",
    "    <tr><th>MAE</th><td>0.58</td><td>0.69</td><td>0.58</td><td>0.51</td></tr>\n",
    "    <tr><th>Max</th><td>4.0</td><td>4.0</td><td>4.0</td><td>4.0</td></tr>\n",
    "    <tr><th></th><td></td><td></td><td></td><td></td></tr>\n",
    "</table>"
   ]
  },
  {
   "cell_type": "markdown",
   "id": "intense-letter",
   "metadata": {},
   "source": [
    "<b>Вывод:</b> Наилучшие значения метрик демонстрирует SVR (наименьшие значения среднеквадратичной ошибки и средней абсолютной ошибки на тестовой выборке). При этом все 4 модели показывают одинаковые значения максимальной абсолютной ошибки после округления"
   ]
  },
  {
   "cell_type": "code",
   "execution_count": null,
   "id": "buried-concentration",
   "metadata": {},
   "outputs": [],
   "source": []
  }
 ],
 "metadata": {
  "kernelspec": {
   "display_name": "Python 3",
   "language": "python",
   "name": "python3"
  },
  "language_info": {
   "codemirror_mode": {
    "name": "ipython",
    "version": 3
   },
   "file_extension": ".py",
   "mimetype": "text/x-python",
   "name": "python",
   "nbconvert_exporter": "python",
   "pygments_lexer": "ipython3",
   "version": "3.7.1"
  }
 },
 "nbformat": 4,
 "nbformat_minor": 5
}
